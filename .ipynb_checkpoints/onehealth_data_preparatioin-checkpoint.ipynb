{
 "cells": [
  {
   "cell_type": "markdown",
   "id": "edc8b532-470b-44bb-904d-17318b131bca",
   "metadata": {},
   "source": [
    "# One Health Job Assessment\n",
    "\n",
    "---\n",
    "\n",
    "### Data Cleaning and Preparation"
   ]
  },
  {
   "cell_type": "code",
   "execution_count": 104,
   "id": "1e1e757e-2905-4579-b0ab-41fb3421528f",
   "metadata": {},
   "outputs": [],
   "source": [
    "# Importing dependables\n",
    "\n",
    "import numpy as np\n",
    "import pandas as pd\n",
    "import matplotlib.pyplot as plt\n",
    "import seaborn as sns\n",
    "import zipfile  # for dealing with zip files\n",
    "from datetime import timedelta  # for dealing with time series calculations\n",
    "\n",
    "import warnings\n",
    "# Suppress all warnings within a code block\n",
    "warnings.filterwarnings(\"ignore\")"
   ]
  },
  {
   "cell_type": "code",
   "execution_count": 105,
   "id": "e78713dc-4183-479b-9be1-08d1d3c88ab0",
   "metadata": {},
   "outputs": [],
   "source": [
    "# Open the zip file in read mode\n",
    "\n",
    "with zipfile.ZipFile(\"onehealthzip.zip\", 'r'):  # this code opens the zip file\n",
    "    df = pd.read_excel('Assessment Data.xlsx')  # this code reads the excel file into a data frame"
   ]
  },
  {
   "cell_type": "code",
   "execution_count": 106,
   "id": "a4229fa5-1012-49ae-a475-5a3b8f524186",
   "metadata": {},
   "outputs": [
    {
     "data": {
      "text/html": [
       "<div>\n",
       "<style scoped>\n",
       "    .dataframe tbody tr th:only-of-type {\n",
       "        vertical-align: middle;\n",
       "    }\n",
       "\n",
       "    .dataframe tbody tr th {\n",
       "        vertical-align: top;\n",
       "    }\n",
       "\n",
       "    .dataframe thead th {\n",
       "        text-align: right;\n",
       "    }\n",
       "</style>\n",
       "<table border=\"1\" class=\"dataframe\">\n",
       "  <thead>\n",
       "    <tr style=\"text-align: right;\">\n",
       "      <th></th>\n",
       "      <th>HMO ID</th>\n",
       "      <th>Prescription Code</th>\n",
       "      <th>Name</th>\n",
       "      <th>Date created</th>\n",
       "      <th>STATUS</th>\n",
       "      <th>Delivery Status</th>\n",
       "      <th>Delivery Time</th>\n",
       "      <th>Unnamed: 7</th>\n",
       "    </tr>\n",
       "  </thead>\n",
       "  <tbody>\n",
       "    <tr>\n",
       "      <th>0</th>\n",
       "      <td>10007RUTA</td>\n",
       "      <td>90A67E39</td>\n",
       "      <td>Aretola</td>\n",
       "      <td>2024-05-01 05:24:01</td>\n",
       "      <td>Dispensed</td>\n",
       "      <td>Delivered</td>\n",
       "      <td>2024-05-01 17:00:00</td>\n",
       "      <td>NaN</td>\n",
       "    </tr>\n",
       "    <tr>\n",
       "      <th>1</th>\n",
       "      <td>10136AVLC</td>\n",
       "      <td>294E6A17</td>\n",
       "      <td>Ijete</td>\n",
       "      <td>2024-05-01 06:29:03</td>\n",
       "      <td>Dispensed</td>\n",
       "      <td>Delivered</td>\n",
       "      <td>2024-05-01 13:23:00</td>\n",
       "      <td>NaN</td>\n",
       "    </tr>\n",
       "    <tr>\n",
       "      <th>2</th>\n",
       "      <td>10047IPOB</td>\n",
       "      <td>A98A9111</td>\n",
       "      <td>Afiomah</td>\n",
       "      <td>2024-05-01 06:31:34</td>\n",
       "      <td>Dispensed</td>\n",
       "      <td>Delivered</td>\n",
       "      <td>2024-05-02 16:12:00</td>\n",
       "      <td>Enrollee number not connecting, reroute 2nd</td>\n",
       "    </tr>\n",
       "    <tr>\n",
       "      <th>3</th>\n",
       "      <td>10026CSHB</td>\n",
       "      <td>D34456FA</td>\n",
       "      <td>Olaomi</td>\n",
       "      <td>2024-05-01 06:37:31</td>\n",
       "      <td>Dispensed</td>\n",
       "      <td>Delivered</td>\n",
       "      <td>NaT</td>\n",
       "      <td>NaN</td>\n",
       "    </tr>\n",
       "    <tr>\n",
       "      <th>4</th>\n",
       "      <td>10054PVLA</td>\n",
       "      <td>850258F2</td>\n",
       "      <td>Abdullahi</td>\n",
       "      <td>2024-05-01 06:56:48</td>\n",
       "      <td>Dispensed</td>\n",
       "      <td>Delivered</td>\n",
       "      <td>2024-05-01 12:00:00</td>\n",
       "      <td>NaN</td>\n",
       "    </tr>\n",
       "  </tbody>\n",
       "</table>\n",
       "</div>"
      ],
      "text/plain": [
       "      HMO ID Prescription Code       Name        Date created     STATUS  \\\n",
       "0  10007RUTA          90A67E39    Aretola 2024-05-01 05:24:01  Dispensed   \n",
       "1  10136AVLC          294E6A17      Ijete 2024-05-01 06:29:03  Dispensed   \n",
       "2  10047IPOB          A98A9111    Afiomah 2024-05-01 06:31:34  Dispensed   \n",
       "3  10026CSHB          D34456FA     Olaomi 2024-05-01 06:37:31  Dispensed   \n",
       "4  10054PVLA          850258F2  Abdullahi 2024-05-01 06:56:48  Dispensed   \n",
       "\n",
       "  Delivery Status       Delivery Time  \\\n",
       "0       Delivered 2024-05-01 17:00:00   \n",
       "1       Delivered 2024-05-01 13:23:00   \n",
       "2       Delivered 2024-05-02 16:12:00   \n",
       "3       Delivered                 NaT   \n",
       "4       Delivered 2024-05-01 12:00:00   \n",
       "\n",
       "                                     Unnamed: 7  \n",
       "0                                           NaN  \n",
       "1                                           NaN  \n",
       "2  Enrollee number not connecting, reroute 2nd   \n",
       "3                                           NaN  \n",
       "4                                           NaN  "
      ]
     },
     "execution_count": 106,
     "metadata": {},
     "output_type": "execute_result"
    }
   ],
   "source": [
    "df.head()"
   ]
  },
  {
   "cell_type": "code",
   "execution_count": null,
   "id": "f39f0c59-49a5-4848-b67b-f90bce9211a6",
   "metadata": {},
   "outputs": [],
   "source": []
  },
  {
   "cell_type": "code",
   "execution_count": 107,
   "id": "d50ec576-990d-4aba-8e16-efd65b974f08",
   "metadata": {},
   "outputs": [
    {
     "name": "stdout",
     "output_type": "stream",
     "text": [
      "The total number of column in the df is: 8\n",
      "The total number of rows in the df is: 6198\n"
     ]
    }
   ],
   "source": [
    "# Check for the dimension of the data set\n",
    "\n",
    "print(f\"The total number of column in the df is: {df.shape[1]}\")\n",
    "print(f\"The total number of rows in the df is: {df.shape[0]}\")"
   ]
  },
  {
   "cell_type": "code",
   "execution_count": 108,
   "id": "4222808e-1983-4241-9949-cab40251c48c",
   "metadata": {},
   "outputs": [
    {
     "name": "stdout",
     "output_type": "stream",
     "text": [
      "<class 'pandas.core.frame.DataFrame'>\n",
      "RangeIndex: 6198 entries, 0 to 6197\n",
      "Data columns (total 8 columns):\n",
      " #   Column             Non-Null Count  Dtype         \n",
      "---  ------             --------------  -----         \n",
      " 0   HMO ID             6197 non-null   object        \n",
      " 1   Prescription Code  6196 non-null   object        \n",
      " 2   Name               6198 non-null   object        \n",
      " 3   Date created       6198 non-null   datetime64[ns]\n",
      " 4   STATUS             6198 non-null   object        \n",
      " 5   Delivery Status    6193 non-null   object        \n",
      " 6   Delivery Time      5702 non-null   datetime64[ns]\n",
      " 7   Unnamed: 7         194 non-null    object        \n",
      "dtypes: datetime64[ns](2), object(6)\n",
      "memory usage: 387.5+ KB\n"
     ]
    }
   ],
   "source": [
    "# check the data for inconsistencies like Null values and column name formats\n",
    "\n",
    "df.info()"
   ]
  },
  {
   "cell_type": "code",
   "execution_count": null,
   "id": "3616cdf1-9ffb-482c-898d-43d72fb6bd05",
   "metadata": {},
   "outputs": [],
   "source": []
  },
  {
   "cell_type": "markdown",
   "id": "a7bfb8ea-ffe6-47ca-b123-64655ff0f84e",
   "metadata": {},
   "source": [
    "### Observations\n",
    "- the date columns are not in the correct format\n",
    "- there some Null values in the Delivery Time Column\n",
    "- the feature names are not consistent\n",
    "- the last column unnamed: 7 is irrelevant to the task"
   ]
  },
  {
   "cell_type": "code",
   "execution_count": null,
   "id": "1d743e96-45bd-4d10-a7f4-b35117e92fd7",
   "metadata": {},
   "outputs": [],
   "source": []
  },
  {
   "cell_type": "markdown",
   "id": "2418de96-6166-40c3-bcac-2e80cef0a45d",
   "metadata": {},
   "source": [
    "# Data Cleaning and Preparation"
   ]
  },
  {
   "cell_type": "code",
   "execution_count": 109,
   "id": "386e791b-c86a-4a07-a9a3-4b391b31c497",
   "metadata": {},
   "outputs": [
    {
     "name": "stdout",
     "output_type": "stream",
     "text": [
      "HMO ID                  1\n",
      "Prescription Code       2\n",
      "Name                    0\n",
      "Date created            0\n",
      "STATUS                  0\n",
      "Delivery Status         5\n",
      "Delivery Time         496\n",
      "Unnamed: 7           6004\n",
      "dtype: int64\n"
     ]
    }
   ],
   "source": [
    "# Checking for missing Values\n",
    "\n",
    "print(df.isnull().sum())"
   ]
  },
  {
   "cell_type": "code",
   "execution_count": null,
   "id": "347d5417-8fcf-446f-acf4-75765b3da9b8",
   "metadata": {},
   "outputs": [],
   "source": []
  },
  {
   "cell_type": "code",
   "execution_count": 110,
   "id": "0400746a-0293-4afc-a9b5-7a97a308aa39",
   "metadata": {},
   "outputs": [
    {
     "name": "stdout",
     "output_type": "stream",
     "text": [
      "HMO ID                0.016134\n",
      "Prescription Code     0.032268\n",
      "Name                  0.000000\n",
      "Date created          0.000000\n",
      "STATUS                0.000000\n",
      "Delivery Status       0.080671\n",
      "Delivery Time         8.002581\n",
      "Unnamed: 7           96.869958\n",
      "dtype: float64\n"
     ]
    }
   ],
   "source": [
    "# calculate the percentages of missing values\n",
    "\n",
    "missing_value_percentages = (df.isnull().sum() / df.shape[0]) * 100\n",
    "print(missing_value_percentages)"
   ]
  },
  {
   "cell_type": "code",
   "execution_count": 111,
   "id": "06eeadad-65ad-4c68-b757-54b993b929ee",
   "metadata": {},
   "outputs": [],
   "source": [
    "# We will also drop the unnamed: 7 column.\n",
    "# Since the percentage of null values in the Delivery Time is not up to 20% of \n",
    "# The total number of roles in the data set we will drop the null values.\n",
    "\n",
    "# Create a funtion that will take a data frame object:\n",
    "# remove the null values and unnecessary columns, \n",
    "# Standardize the date time columns i.e convert the datetime columns to datetime data type\n",
    "\n",
    "def remove_nullValues_unneccessary_col (df):\n",
    "    '''This function takes in a data frame and remove the unwanted features and null values\n",
    "       Convert the date time features to the date time format\n",
    "    '''\n",
    "    # drop the column\n",
    "    df = df.drop(\"Unnamed: 7\", axis = 1)\n",
    "    df = df.dropna()\n",
    "    # Standardize date and time formats\n",
    "    df['Date created'] = pd.to_datetime(df['Date created'])\n",
    "    df['Delivery Time'] = pd.to_datetime(df['Delivery Time'])\n",
    "    \n",
    "    return df\n"
   ]
  },
  {
   "cell_type": "code",
   "execution_count": 112,
   "id": "c598c0ea-a243-4642-a584-710419b0371f",
   "metadata": {},
   "outputs": [
    {
     "data": {
      "text/html": [
       "<div>\n",
       "<style scoped>\n",
       "    .dataframe tbody tr th:only-of-type {\n",
       "        vertical-align: middle;\n",
       "    }\n",
       "\n",
       "    .dataframe tbody tr th {\n",
       "        vertical-align: top;\n",
       "    }\n",
       "\n",
       "    .dataframe thead th {\n",
       "        text-align: right;\n",
       "    }\n",
       "</style>\n",
       "<table border=\"1\" class=\"dataframe\">\n",
       "  <thead>\n",
       "    <tr style=\"text-align: right;\">\n",
       "      <th></th>\n",
       "      <th>HMO ID</th>\n",
       "      <th>Prescription Code</th>\n",
       "      <th>Name</th>\n",
       "      <th>Date created</th>\n",
       "      <th>STATUS</th>\n",
       "      <th>Delivery Status</th>\n",
       "      <th>Delivery Time</th>\n",
       "    </tr>\n",
       "  </thead>\n",
       "  <tbody>\n",
       "    <tr>\n",
       "      <th>0</th>\n",
       "      <td>10007RUTA</td>\n",
       "      <td>90A67E39</td>\n",
       "      <td>Aretola</td>\n",
       "      <td>2024-05-01 05:24:01</td>\n",
       "      <td>Dispensed</td>\n",
       "      <td>Delivered</td>\n",
       "      <td>2024-05-01 17:00:00</td>\n",
       "    </tr>\n",
       "    <tr>\n",
       "      <th>1</th>\n",
       "      <td>10136AVLC</td>\n",
       "      <td>294E6A17</td>\n",
       "      <td>Ijete</td>\n",
       "      <td>2024-05-01 06:29:03</td>\n",
       "      <td>Dispensed</td>\n",
       "      <td>Delivered</td>\n",
       "      <td>2024-05-01 13:23:00</td>\n",
       "    </tr>\n",
       "    <tr>\n",
       "      <th>2</th>\n",
       "      <td>10047IPOB</td>\n",
       "      <td>A98A9111</td>\n",
       "      <td>Afiomah</td>\n",
       "      <td>2024-05-01 06:31:34</td>\n",
       "      <td>Dispensed</td>\n",
       "      <td>Delivered</td>\n",
       "      <td>2024-05-02 16:12:00</td>\n",
       "    </tr>\n",
       "    <tr>\n",
       "      <th>4</th>\n",
       "      <td>10054PVLA</td>\n",
       "      <td>850258F2</td>\n",
       "      <td>Abdullahi</td>\n",
       "      <td>2024-05-01 06:56:48</td>\n",
       "      <td>Dispensed</td>\n",
       "      <td>Delivered</td>\n",
       "      <td>2024-05-01 12:00:00</td>\n",
       "    </tr>\n",
       "    <tr>\n",
       "      <th>5</th>\n",
       "      <td>10506OPAA</td>\n",
       "      <td>175FBA94</td>\n",
       "      <td>FAGBAMIGBE</td>\n",
       "      <td>2024-05-01 06:57:10</td>\n",
       "      <td>Dispensed</td>\n",
       "      <td>Delivered</td>\n",
       "      <td>2024-05-01 14:23:00</td>\n",
       "    </tr>\n",
       "  </tbody>\n",
       "</table>\n",
       "</div>"
      ],
      "text/plain": [
       "      HMO ID Prescription Code        Name        Date created     STATUS  \\\n",
       "0  10007RUTA          90A67E39     Aretola 2024-05-01 05:24:01  Dispensed   \n",
       "1  10136AVLC          294E6A17       Ijete 2024-05-01 06:29:03  Dispensed   \n",
       "2  10047IPOB          A98A9111     Afiomah 2024-05-01 06:31:34  Dispensed   \n",
       "4  10054PVLA          850258F2   Abdullahi 2024-05-01 06:56:48  Dispensed   \n",
       "5  10506OPAA          175FBA94  FAGBAMIGBE 2024-05-01 06:57:10  Dispensed   \n",
       "\n",
       "  Delivery Status       Delivery Time  \n",
       "0       Delivered 2024-05-01 17:00:00  \n",
       "1       Delivered 2024-05-01 13:23:00  \n",
       "2       Delivered 2024-05-02 16:12:00  \n",
       "4       Delivered 2024-05-01 12:00:00  \n",
       "5       Delivered 2024-05-01 14:23:00  "
      ]
     },
     "execution_count": 112,
     "metadata": {},
     "output_type": "execute_result"
    }
   ],
   "source": [
    "# pass the data frame through the function\n",
    "df = remove_nullValues_unneccessary_col(df)\n",
    "df.head()"
   ]
  },
  {
   "cell_type": "code",
   "execution_count": null,
   "id": "8119b601-190f-4555-ab95-66262f09ba1b",
   "metadata": {},
   "outputs": [],
   "source": []
  },
  {
   "cell_type": "code",
   "execution_count": 113,
   "id": "6f62dc7b-8691-47b1-a970-ee470da5e68e",
   "metadata": {},
   "outputs": [
    {
     "name": "stdout",
     "output_type": "stream",
     "text": [
      "<class 'pandas.core.frame.DataFrame'>\n",
      "Index: 5700 entries, 0 to 6197\n",
      "Data columns (total 7 columns):\n",
      " #   Column             Non-Null Count  Dtype         \n",
      "---  ------             --------------  -----         \n",
      " 0   HMO ID             5700 non-null   object        \n",
      " 1   Prescription Code  5700 non-null   object        \n",
      " 2   Name               5700 non-null   object        \n",
      " 3   Date created       5700 non-null   datetime64[ns]\n",
      " 4   STATUS             5700 non-null   object        \n",
      " 5   Delivery Status    5700 non-null   object        \n",
      " 6   Delivery Time      5700 non-null   datetime64[ns]\n",
      "dtypes: datetime64[ns](2), object(5)\n",
      "memory usage: 356.2+ KB\n"
     ]
    }
   ],
   "source": [
    "# check for inconsistencies\n",
    "\n",
    "df.info()"
   ]
  },
  {
   "cell_type": "code",
   "execution_count": 114,
   "id": "0469a7b7-81c3-461d-bd14-6e6f2bb95465",
   "metadata": {},
   "outputs": [
    {
     "data": {
      "text/plain": [
       "HMO ID               0\n",
       "Prescription Code    0\n",
       "Name                 0\n",
       "Date created         0\n",
       "STATUS               0\n",
       "Delivery Status      0\n",
       "Delivery Time        0\n",
       "dtype: int64"
      ]
     },
     "execution_count": 114,
     "metadata": {},
     "output_type": "execute_result"
    }
   ],
   "source": [
    "# check if there are still null values\n",
    "\n",
    "df.isnull().sum()"
   ]
  },
  {
   "cell_type": "code",
   "execution_count": 115,
   "id": "3874d79f-4109-4447-b021-de9aadc992ce",
   "metadata": {},
   "outputs": [
    {
     "data": {
      "text/plain": [
       "Index(['HMO ID', 'Prescription Code', 'Name', 'Date created', 'STATUS',\n",
       "       'Delivery Status', 'Delivery Time'],\n",
       "      dtype='object')"
      ]
     },
     "execution_count": 115,
     "metadata": {},
     "output_type": "execute_result"
    }
   ],
   "source": [
    "df.columns"
   ]
  },
  {
   "cell_type": "code",
   "execution_count": 116,
   "id": "b4d50bdd-f473-44af-b861-48b819ab8c46",
   "metadata": {},
   "outputs": [
    {
     "data": {
      "text/plain": [
       "Index(['hmo_id', 'prescription_code', 'name', 'date_created', 'status',\n",
       "       'delivery_status', 'delivery_time'],\n",
       "      dtype='object')"
      ]
     },
     "execution_count": 116,
     "metadata": {},
     "output_type": "execute_result"
    }
   ],
   "source": [
    "# Sine the column names are inconsistent, lets make it consistent as follows:\n",
    "\n",
    "old_names = df.columns\n",
    "new_names = [name.replace(' ', '_').lower() for name in old_names]  # this syntax fixes the inconsistencies in the column names\n",
    "\n",
    "df.columns = new_names\n",
    "df.columns"
   ]
  },
  {
   "cell_type": "code",
   "execution_count": 117,
   "id": "01fd7d84-0da7-4f85-a1ab-0e11154e8976",
   "metadata": {},
   "outputs": [
    {
     "data": {
      "text/html": [
       "<div>\n",
       "<style scoped>\n",
       "    .dataframe tbody tr th:only-of-type {\n",
       "        vertical-align: middle;\n",
       "    }\n",
       "\n",
       "    .dataframe tbody tr th {\n",
       "        vertical-align: top;\n",
       "    }\n",
       "\n",
       "    .dataframe thead th {\n",
       "        text-align: right;\n",
       "    }\n",
       "</style>\n",
       "<table border=\"1\" class=\"dataframe\">\n",
       "  <thead>\n",
       "    <tr style=\"text-align: right;\">\n",
       "      <th></th>\n",
       "      <th>hmo_id</th>\n",
       "      <th>prescription_code</th>\n",
       "      <th>name</th>\n",
       "      <th>date_created</th>\n",
       "      <th>status</th>\n",
       "      <th>delivery_status</th>\n",
       "      <th>delivery_time</th>\n",
       "    </tr>\n",
       "  </thead>\n",
       "  <tbody>\n",
       "    <tr>\n",
       "      <th>0</th>\n",
       "      <td>10007RUTA</td>\n",
       "      <td>90A67E39</td>\n",
       "      <td>Aretola</td>\n",
       "      <td>2024-05-01 05:24:01</td>\n",
       "      <td>Dispensed</td>\n",
       "      <td>Delivered</td>\n",
       "      <td>2024-05-01 17:00:00</td>\n",
       "    </tr>\n",
       "    <tr>\n",
       "      <th>1</th>\n",
       "      <td>10136AVLC</td>\n",
       "      <td>294E6A17</td>\n",
       "      <td>Ijete</td>\n",
       "      <td>2024-05-01 06:29:03</td>\n",
       "      <td>Dispensed</td>\n",
       "      <td>Delivered</td>\n",
       "      <td>2024-05-01 13:23:00</td>\n",
       "    </tr>\n",
       "    <tr>\n",
       "      <th>2</th>\n",
       "      <td>10047IPOB</td>\n",
       "      <td>A98A9111</td>\n",
       "      <td>Afiomah</td>\n",
       "      <td>2024-05-01 06:31:34</td>\n",
       "      <td>Dispensed</td>\n",
       "      <td>Delivered</td>\n",
       "      <td>2024-05-02 16:12:00</td>\n",
       "    </tr>\n",
       "    <tr>\n",
       "      <th>4</th>\n",
       "      <td>10054PVLA</td>\n",
       "      <td>850258F2</td>\n",
       "      <td>Abdullahi</td>\n",
       "      <td>2024-05-01 06:56:48</td>\n",
       "      <td>Dispensed</td>\n",
       "      <td>Delivered</td>\n",
       "      <td>2024-05-01 12:00:00</td>\n",
       "    </tr>\n",
       "    <tr>\n",
       "      <th>5</th>\n",
       "      <td>10506OPAA</td>\n",
       "      <td>175FBA94</td>\n",
       "      <td>FAGBAMIGBE</td>\n",
       "      <td>2024-05-01 06:57:10</td>\n",
       "      <td>Dispensed</td>\n",
       "      <td>Delivered</td>\n",
       "      <td>2024-05-01 14:23:00</td>\n",
       "    </tr>\n",
       "  </tbody>\n",
       "</table>\n",
       "</div>"
      ],
      "text/plain": [
       "      hmo_id prescription_code        name        date_created     status  \\\n",
       "0  10007RUTA          90A67E39     Aretola 2024-05-01 05:24:01  Dispensed   \n",
       "1  10136AVLC          294E6A17       Ijete 2024-05-01 06:29:03  Dispensed   \n",
       "2  10047IPOB          A98A9111     Afiomah 2024-05-01 06:31:34  Dispensed   \n",
       "4  10054PVLA          850258F2   Abdullahi 2024-05-01 06:56:48  Dispensed   \n",
       "5  10506OPAA          175FBA94  FAGBAMIGBE 2024-05-01 06:57:10  Dispensed   \n",
       "\n",
       "  delivery_status       delivery_time  \n",
       "0       Delivered 2024-05-01 17:00:00  \n",
       "1       Delivered 2024-05-01 13:23:00  \n",
       "2       Delivered 2024-05-02 16:12:00  \n",
       "4       Delivered 2024-05-01 12:00:00  \n",
       "5       Delivered 2024-05-01 14:23:00  "
      ]
     },
     "execution_count": 117,
     "metadata": {},
     "output_type": "execute_result"
    }
   ],
   "source": [
    "df.head()"
   ]
  },
  {
   "cell_type": "code",
   "execution_count": null,
   "id": "b72a696b-88f8-4452-a7b3-866755982f1e",
   "metadata": {},
   "outputs": [],
   "source": []
  },
  {
   "cell_type": "markdown",
   "id": "6a7a6358-e399-4507-bc42-f01c8f30b67c",
   "metadata": {},
   "source": [
    "##### Lead Time Calculation"
   ]
  },
  {
   "cell_type": "code",
   "execution_count": 118,
   "id": "9d64ce14-34bd-4a26-b550-069039316197",
   "metadata": {},
   "outputs": [],
   "source": [
    "# Calculate lead time\n",
    "df['lead_time'] = (df['delivery_time'] - df['date_created']).dt.total_seconds() / 3600\n",
    "\n",
    "# Adjust lead time for orders created after 4 PM\n",
    "def adjust_lead_time(row):\n",
    "    \"\"\"\n",
    "    Adjusts lead time for orders created after 4 PM and not delivered on the same day.\n",
    "\n",
    "    This function takes a single row (Series) from the DataFrame as input and modifies\n",
    "    the 'lead_time' value based on specific conditions.\n",
    "\n",
    "    Args:\n",
    "        row (pandas.Series): A row from the DataFrame containing order information.\n",
    "\n",
    "    Returns:\n",
    "        float: The adjusted lead time in hours (or None if delivery time is missing).\n",
    "    \"\"\"\n",
    "\n",
    "    # Check if order creation time is after 4 PM (16:00)\n",
    "    if row['date_created'].hour >= 16:\n",
    "        # Check if delivery occurred on the same day (date comparison)\n",
    "        if row['delivery_time'].date() != row['date_created'].date():\n",
    "            # Calculate the adjusted creation time (8 AM next day)\n",
    "            next_day_8_am = row['date_created'].replace(hour=8, minute=0, second=0, microsecond=0) + pd.Timedelta(days=1)\n",
    "\n",
    "            # Calculate lead time in seconds and convert to hours\n",
    "            lead_time_seconds = (row['delivery_time'] - next_day_8_am).total_seconds()\n",
    "            lead_time_hours = lead_time_seconds / 3600\n",
    "\n",
    "            # Return the adjusted lead time in hours\n",
    "            return lead_time_hours\n",
    "        else:\n",
    "            # Delivery occurred on the same day, no adjustment needed\n",
    "            return row['lead_time']\n",
    "    else:\n",
    "        # Order created before 4 PM, no adjustment needed\n",
    "        return row['lead_time']\n",
    "\n",
    "    # This line is unreachable in practice, but included to complete the algorithm\n",
    "    return None  # Handle cases where delivery time is missing by returning none\n"
   ]
  },
  {
   "cell_type": "code",
   "execution_count": 119,
   "id": "df3d8808-c5ca-478d-814e-8a31654621ca",
   "metadata": {},
   "outputs": [
    {
     "data": {
      "text/html": [
       "<div>\n",
       "<style scoped>\n",
       "    .dataframe tbody tr th:only-of-type {\n",
       "        vertical-align: middle;\n",
       "    }\n",
       "\n",
       "    .dataframe tbody tr th {\n",
       "        vertical-align: top;\n",
       "    }\n",
       "\n",
       "    .dataframe thead th {\n",
       "        text-align: right;\n",
       "    }\n",
       "</style>\n",
       "<table border=\"1\" class=\"dataframe\">\n",
       "  <thead>\n",
       "    <tr style=\"text-align: right;\">\n",
       "      <th></th>\n",
       "      <th>hmo_id</th>\n",
       "      <th>prescription_code</th>\n",
       "      <th>name</th>\n",
       "      <th>date_created</th>\n",
       "      <th>status</th>\n",
       "      <th>delivery_status</th>\n",
       "      <th>delivery_time</th>\n",
       "      <th>lead_time</th>\n",
       "    </tr>\n",
       "  </thead>\n",
       "  <tbody>\n",
       "    <tr>\n",
       "      <th>0</th>\n",
       "      <td>10007RUTA</td>\n",
       "      <td>90A67E39</td>\n",
       "      <td>Aretola</td>\n",
       "      <td>2024-05-01 05:24:01</td>\n",
       "      <td>Dispensed</td>\n",
       "      <td>Delivered</td>\n",
       "      <td>2024-05-01 17:00:00</td>\n",
       "      <td>11.599722</td>\n",
       "    </tr>\n",
       "    <tr>\n",
       "      <th>1</th>\n",
       "      <td>10136AVLC</td>\n",
       "      <td>294E6A17</td>\n",
       "      <td>Ijete</td>\n",
       "      <td>2024-05-01 06:29:03</td>\n",
       "      <td>Dispensed</td>\n",
       "      <td>Delivered</td>\n",
       "      <td>2024-05-01 13:23:00</td>\n",
       "      <td>6.899167</td>\n",
       "    </tr>\n",
       "    <tr>\n",
       "      <th>2</th>\n",
       "      <td>10047IPOB</td>\n",
       "      <td>A98A9111</td>\n",
       "      <td>Afiomah</td>\n",
       "      <td>2024-05-01 06:31:34</td>\n",
       "      <td>Dispensed</td>\n",
       "      <td>Delivered</td>\n",
       "      <td>2024-05-02 16:12:00</td>\n",
       "      <td>33.673889</td>\n",
       "    </tr>\n",
       "    <tr>\n",
       "      <th>4</th>\n",
       "      <td>10054PVLA</td>\n",
       "      <td>850258F2</td>\n",
       "      <td>Abdullahi</td>\n",
       "      <td>2024-05-01 06:56:48</td>\n",
       "      <td>Dispensed</td>\n",
       "      <td>Delivered</td>\n",
       "      <td>2024-05-01 12:00:00</td>\n",
       "      <td>5.053333</td>\n",
       "    </tr>\n",
       "    <tr>\n",
       "      <th>5</th>\n",
       "      <td>10506OPAA</td>\n",
       "      <td>175FBA94</td>\n",
       "      <td>FAGBAMIGBE</td>\n",
       "      <td>2024-05-01 06:57:10</td>\n",
       "      <td>Dispensed</td>\n",
       "      <td>Delivered</td>\n",
       "      <td>2024-05-01 14:23:00</td>\n",
       "      <td>7.430556</td>\n",
       "    </tr>\n",
       "  </tbody>\n",
       "</table>\n",
       "</div>"
      ],
      "text/plain": [
       "      hmo_id prescription_code        name        date_created     status  \\\n",
       "0  10007RUTA          90A67E39     Aretola 2024-05-01 05:24:01  Dispensed   \n",
       "1  10136AVLC          294E6A17       Ijete 2024-05-01 06:29:03  Dispensed   \n",
       "2  10047IPOB          A98A9111     Afiomah 2024-05-01 06:31:34  Dispensed   \n",
       "4  10054PVLA          850258F2   Abdullahi 2024-05-01 06:56:48  Dispensed   \n",
       "5  10506OPAA          175FBA94  FAGBAMIGBE 2024-05-01 06:57:10  Dispensed   \n",
       "\n",
       "  delivery_status       delivery_time  lead_time  \n",
       "0       Delivered 2024-05-01 17:00:00  11.599722  \n",
       "1       Delivered 2024-05-01 13:23:00   6.899167  \n",
       "2       Delivered 2024-05-02 16:12:00  33.673889  \n",
       "4       Delivered 2024-05-01 12:00:00   5.053333  \n",
       "5       Delivered 2024-05-01 14:23:00   7.430556  "
      ]
     },
     "execution_count": 119,
     "metadata": {},
     "output_type": "execute_result"
    }
   ],
   "source": [
    "# Apply the function to each row with a new column 'lead_time'\n",
    "df['lead_time'] = df.apply(adjust_lead_time, axis=1)\n",
    "\n",
    "# print first 5 rows to check the result\n",
    "df.head()"
   ]
  },
  {
   "cell_type": "code",
   "execution_count": null,
   "id": "dd514ebb-b317-436b-97f3-1bb0b4295c3a",
   "metadata": {},
   "outputs": [],
   "source": []
  },
  {
   "cell_type": "markdown",
   "id": "fde06d69-0460-454c-95d8-64ef2691b071",
   "metadata": {},
   "source": [
    "# Descriptive Analysis"
   ]
  },
  {
   "cell_type": "code",
   "execution_count": null,
   "id": "8df6a8a2-32e9-47fd-b8e3-f6942570bb83",
   "metadata": {},
   "outputs": [],
   "source": []
  },
  {
   "cell_type": "code",
   "execution_count": 120,
   "id": "edf94670-640a-41c8-8490-eea54a6eac72",
   "metadata": {},
   "outputs": [
    {
     "data": {
      "text/html": [
       "<div>\n",
       "<style scoped>\n",
       "    .dataframe tbody tr th:only-of-type {\n",
       "        vertical-align: middle;\n",
       "    }\n",
       "\n",
       "    .dataframe tbody tr th {\n",
       "        vertical-align: top;\n",
       "    }\n",
       "\n",
       "    .dataframe thead th {\n",
       "        text-align: right;\n",
       "    }\n",
       "</style>\n",
       "<table border=\"1\" class=\"dataframe\">\n",
       "  <thead>\n",
       "    <tr style=\"text-align: right;\">\n",
       "      <th></th>\n",
       "      <th>hmo_id</th>\n",
       "      <th>prescription_code</th>\n",
       "      <th>name</th>\n",
       "      <th>date_created</th>\n",
       "      <th>status</th>\n",
       "      <th>delivery_status</th>\n",
       "      <th>delivery_time</th>\n",
       "      <th>lead_time</th>\n",
       "    </tr>\n",
       "  </thead>\n",
       "  <tbody>\n",
       "    <tr>\n",
       "      <th>0</th>\n",
       "      <td>10007RUTA</td>\n",
       "      <td>90A67E39</td>\n",
       "      <td>Aretola</td>\n",
       "      <td>2024-05-01 05:24:01</td>\n",
       "      <td>Dispensed</td>\n",
       "      <td>Delivered</td>\n",
       "      <td>2024-05-01 17:00:00</td>\n",
       "      <td>11.599722</td>\n",
       "    </tr>\n",
       "    <tr>\n",
       "      <th>1</th>\n",
       "      <td>10136AVLC</td>\n",
       "      <td>294E6A17</td>\n",
       "      <td>Ijete</td>\n",
       "      <td>2024-05-01 06:29:03</td>\n",
       "      <td>Dispensed</td>\n",
       "      <td>Delivered</td>\n",
       "      <td>2024-05-01 13:23:00</td>\n",
       "      <td>6.899167</td>\n",
       "    </tr>\n",
       "    <tr>\n",
       "      <th>2</th>\n",
       "      <td>10047IPOB</td>\n",
       "      <td>A98A9111</td>\n",
       "      <td>Afiomah</td>\n",
       "      <td>2024-05-01 06:31:34</td>\n",
       "      <td>Dispensed</td>\n",
       "      <td>Delivered</td>\n",
       "      <td>2024-05-02 16:12:00</td>\n",
       "      <td>33.673889</td>\n",
       "    </tr>\n",
       "    <tr>\n",
       "      <th>4</th>\n",
       "      <td>10054PVLA</td>\n",
       "      <td>850258F2</td>\n",
       "      <td>Abdullahi</td>\n",
       "      <td>2024-05-01 06:56:48</td>\n",
       "      <td>Dispensed</td>\n",
       "      <td>Delivered</td>\n",
       "      <td>2024-05-01 12:00:00</td>\n",
       "      <td>5.053333</td>\n",
       "    </tr>\n",
       "    <tr>\n",
       "      <th>5</th>\n",
       "      <td>10506OPAA</td>\n",
       "      <td>175FBA94</td>\n",
       "      <td>FAGBAMIGBE</td>\n",
       "      <td>2024-05-01 06:57:10</td>\n",
       "      <td>Dispensed</td>\n",
       "      <td>Delivered</td>\n",
       "      <td>2024-05-01 14:23:00</td>\n",
       "      <td>7.430556</td>\n",
       "    </tr>\n",
       "  </tbody>\n",
       "</table>\n",
       "</div>"
      ],
      "text/plain": [
       "      hmo_id prescription_code        name        date_created     status  \\\n",
       "0  10007RUTA          90A67E39     Aretola 2024-05-01 05:24:01  Dispensed   \n",
       "1  10136AVLC          294E6A17       Ijete 2024-05-01 06:29:03  Dispensed   \n",
       "2  10047IPOB          A98A9111     Afiomah 2024-05-01 06:31:34  Dispensed   \n",
       "4  10054PVLA          850258F2   Abdullahi 2024-05-01 06:56:48  Dispensed   \n",
       "5  10506OPAA          175FBA94  FAGBAMIGBE 2024-05-01 06:57:10  Dispensed   \n",
       "\n",
       "  delivery_status       delivery_time  lead_time  \n",
       "0       Delivered 2024-05-01 17:00:00  11.599722  \n",
       "1       Delivered 2024-05-01 13:23:00   6.899167  \n",
       "2       Delivered 2024-05-02 16:12:00  33.673889  \n",
       "4       Delivered 2024-05-01 12:00:00   5.053333  \n",
       "5       Delivered 2024-05-01 14:23:00   7.430556  "
      ]
     },
     "execution_count": 120,
     "metadata": {},
     "output_type": "execute_result"
    }
   ],
   "source": [
    "df.head()"
   ]
  },
  {
   "cell_type": "code",
   "execution_count": null,
   "id": "a47b6930-c5af-4951-9529-0bc743dba9f7",
   "metadata": {},
   "outputs": [],
   "source": []
  },
  {
   "cell_type": "code",
   "execution_count": 121,
   "id": "14930ace-46ba-414c-8d87-e30951d00779",
   "metadata": {},
   "outputs": [
    {
     "data": {
      "text/html": [
       "<div>\n",
       "<style scoped>\n",
       "    .dataframe tbody tr th:only-of-type {\n",
       "        vertical-align: middle;\n",
       "    }\n",
       "\n",
       "    .dataframe tbody tr th {\n",
       "        vertical-align: top;\n",
       "    }\n",
       "\n",
       "    .dataframe thead th {\n",
       "        text-align: right;\n",
       "    }\n",
       "</style>\n",
       "<table border=\"1\" class=\"dataframe\">\n",
       "  <thead>\n",
       "    <tr style=\"text-align: right;\">\n",
       "      <th></th>\n",
       "      <th>date_created</th>\n",
       "      <th>delivery_time</th>\n",
       "      <th>lead_time</th>\n",
       "    </tr>\n",
       "  </thead>\n",
       "  <tbody>\n",
       "    <tr>\n",
       "      <th>count</th>\n",
       "      <td>5700</td>\n",
       "      <td>5700</td>\n",
       "      <td>5700.000000</td>\n",
       "    </tr>\n",
       "    <tr>\n",
       "      <th>mean</th>\n",
       "      <td>2024-05-17 02:35:24.577719296</td>\n",
       "      <td>2024-05-17 14:11:22.368421120</td>\n",
       "      <td>7.184459</td>\n",
       "    </tr>\n",
       "    <tr>\n",
       "      <th>min</th>\n",
       "      <td>2024-05-01 05:24:01</td>\n",
       "      <td>2024-05-01 11:00:00</td>\n",
       "      <td>-6.616667</td>\n",
       "    </tr>\n",
       "    <tr>\n",
       "      <th>25%</th>\n",
       "      <td>2024-05-09 12:56:51.750000128</td>\n",
       "      <td>2024-05-09 17:07:15</td>\n",
       "      <td>3.167292</td>\n",
       "    </tr>\n",
       "    <tr>\n",
       "      <th>50%</th>\n",
       "      <td>2024-05-16 21:13:42</td>\n",
       "      <td>2024-05-17 12:00:00</td>\n",
       "      <td>4.250000</td>\n",
       "    </tr>\n",
       "    <tr>\n",
       "      <th>75%</th>\n",
       "      <td>2024-05-24 11:34:45.750000128</td>\n",
       "      <td>2024-05-24 16:31:00</td>\n",
       "      <td>6.000000</td>\n",
       "    </tr>\n",
       "    <tr>\n",
       "      <th>max</th>\n",
       "      <td>2024-05-31 23:43:52</td>\n",
       "      <td>2025-05-18 14:23:00</td>\n",
       "      <td>8763.931111</td>\n",
       "    </tr>\n",
       "    <tr>\n",
       "      <th>std</th>\n",
       "      <td>NaN</td>\n",
       "      <td>NaN</td>\n",
       "      <td>116.170402</td>\n",
       "    </tr>\n",
       "  </tbody>\n",
       "</table>\n",
       "</div>"
      ],
      "text/plain": [
       "                        date_created                  delivery_time  \\\n",
       "count                           5700                           5700   \n",
       "mean   2024-05-17 02:35:24.577719296  2024-05-17 14:11:22.368421120   \n",
       "min              2024-05-01 05:24:01            2024-05-01 11:00:00   \n",
       "25%    2024-05-09 12:56:51.750000128            2024-05-09 17:07:15   \n",
       "50%              2024-05-16 21:13:42            2024-05-17 12:00:00   \n",
       "75%    2024-05-24 11:34:45.750000128            2024-05-24 16:31:00   \n",
       "max              2024-05-31 23:43:52            2025-05-18 14:23:00   \n",
       "std                              NaN                            NaN   \n",
       "\n",
       "         lead_time  \n",
       "count  5700.000000  \n",
       "mean      7.184459  \n",
       "min      -6.616667  \n",
       "25%       3.167292  \n",
       "50%       4.250000  \n",
       "75%       6.000000  \n",
       "max    8763.931111  \n",
       "std     116.170402  "
      ]
     },
     "execution_count": 121,
     "metadata": {},
     "output_type": "execute_result"
    }
   ],
   "source": [
    "# Summary Statistics\n",
    "\n",
    "df.describe()"
   ]
  },
  {
   "cell_type": "code",
   "execution_count": null,
   "id": "87371d8c-82a8-4d40-b0a2-9f59b57bf6a0",
   "metadata": {},
   "outputs": [],
   "source": []
  },
  {
   "cell_type": "code",
   "execution_count": null,
   "id": "066b6ff8-5c65-49d6-bca5-94f0d86e5a35",
   "metadata": {},
   "outputs": [],
   "source": []
  },
  {
   "cell_type": "markdown",
   "id": "0d7d9427-e5ff-41c4-9fe7-737c66282f51",
   "metadata": {},
   "source": [
    "### Based on the provided summary statistics, here are some observations for each key variable:\n",
    "\n",
    "### 1. Date Created\n",
    "- **Count**: 5700 entries.\n",
    "- **Mean**: The average date and time for the `date_created` entries is approximately 2024-05-17 02:35:24.\n",
    "- **Min**: The earliest creation date is 2024-05-01 05:24:01.\n",
    "- **25%**: The first quartile (25th percentile) for the creation date is approximately 2024-05-09 12:56:51.\n",
    "- **50% (Median)**: The median creation date is 2024-05-16 21:13:42.\n",
    "- **75%**: The third quartile (75th percentile) is 2024-05-24 11:34:45.\n",
    "- **Max**: The latest creation date is 2024-05-31 23:43:52.\n",
    "- **Std**: Standard deviation is not provided, but the range from the minimum to the maximum date indicates data spread over the entire month of May 2024.\n",
    "\n",
    "### 2. Delivery Time\n",
    "- **Count**: 5700 entries.\n",
    "- **Mean**: The average delivery time is approximately 2024-05-17 14:11:22.\n",
    "- **Min**: The earliest delivery time is 2024-05-01 11:00:00.\n",
    "- **25%**: The first quartile (25th percentile) for delivery time is 2024-05-09 17:07:15.\n",
    "- **50% (Median)**: The median delivery time is 2024-05-17 12:00:00.\n",
    "- **75%**: The third quartile (75th percentile) is 2024-05-24 16:31:00.\n",
    "- **Max**: The latest delivery time is 2025-05-18 14:23:00.\n",
    "- **Std**: Standard deviation is not provided, but given the max value, there's a significant spread, indicating some very late deliveries.\n",
    "\n",
    "### 3. Lead Time\n",
    "- **Count**: 5700 entries.\n",
    "- **Mean**: The average lead time is approximately 7.18 days.\n",
    "- **Min**: The minimum lead time is -6.62 days, which is unusual and suggests data errors (negative lead times indicate an issue where delivery is recorded before creation).\n",
    "- **25%**: The first quartile (25th percentile) for lead time is 3.17 days.\n",
    "- **50% (Median)**: The median lead time is 4.25 days.\n",
    "- **75%**: The third quartile (75th percentile) is 6.00 days.\n",
    "- **Max**: The maximum lead time is 8763.93 days, which is extremely high and likely indicates outliers or data entry errors.\n",
    "- **Std**: The standard deviation is 116.17 days, indicating a wide variation in lead times, largely influenced by outliers.\n",
    "\n",
    "### General Observations\n",
    "1. **Date Range**: The `date_created` and `delivery_time` data span from early May 2024 to late May 2024, but `delivery_time` includes an outlier extending to May 2025.\n",
    "2. **Data Consistency**: There are inconsistencies in the lead time data, as evidenced by negative and extremely high values, indicating potential data quality issues that need to be addressed.\n",
    "3. **Central Tendency and Spread**: While the central tendency (mean and median) of the `date_created` and `delivery_time` variables are centered around mid-May 2024, the `lead_time` shows substantial variability and the presence of significant outliers.\n",
    "\n",
    "### Recommendations\n",
    "- **Data Cleaning**: Investigate and clean the `lead_time` data, especially addressing negative values and outliers.\n",
    "- **Detailed Analysis**: Perform additional analysis on `delivery_time` outliers to understand the cause of deliveries extending into May 2025 or treat them as outlier and remove them\n",
    "- **Visualization**: Use visualizations (e.g., box plots) to better understand the distribution and identify outliers in the data."
   ]
  },
  {
   "cell_type": "code",
   "execution_count": null,
   "id": "fdbe711c-8009-48be-9e10-1869ad8227aa",
   "metadata": {},
   "outputs": [],
   "source": []
  },
  {
   "cell_type": "code",
   "execution_count": null,
   "id": "b3dd5a17-fafa-4f9b-b8fb-d59cbffcfab8",
   "metadata": {},
   "outputs": [],
   "source": []
  },
  {
   "cell_type": "markdown",
   "id": "cd23da7b-55d9-4f28-af8d-6fca10b62244",
   "metadata": {},
   "source": [
    "## Outliers Investigation and Removal"
   ]
  },
  {
   "cell_type": "code",
   "execution_count": null,
   "id": "af8f4533-cc7a-4ff7-b9c1-39ce5f38f675",
   "metadata": {},
   "outputs": [],
   "source": []
  },
  {
   "cell_type": "code",
   "execution_count": 122,
   "id": "197eeb43-0a91-429b-becc-bd19d79f9192",
   "metadata": {},
   "outputs": [
    {
     "name": "stdout",
     "output_type": "stream",
     "text": [
      "<class 'pandas.core.frame.DataFrame'>\n",
      "Index: 5700 entries, 0 to 6197\n",
      "Data columns (total 8 columns):\n",
      " #   Column             Non-Null Count  Dtype         \n",
      "---  ------             --------------  -----         \n",
      " 0   hmo_id             5700 non-null   object        \n",
      " 1   prescription_code  5700 non-null   object        \n",
      " 2   name               5700 non-null   object        \n",
      " 3   date_created       5700 non-null   datetime64[ns]\n",
      " 4   status             5700 non-null   object        \n",
      " 5   delivery_status    5700 non-null   object        \n",
      " 6   delivery_time      5700 non-null   datetime64[ns]\n",
      " 7   lead_time          5700 non-null   float64       \n",
      "dtypes: datetime64[ns](2), float64(1), object(5)\n",
      "memory usage: 400.8+ KB\n"
     ]
    }
   ],
   "source": [
    "df.info()"
   ]
  },
  {
   "cell_type": "code",
   "execution_count": null,
   "id": "84d6d24a-08c7-4f5a-89b6-6b583da2644c",
   "metadata": {},
   "outputs": [],
   "source": []
  },
  {
   "cell_type": "code",
   "execution_count": 123,
   "id": "9d1f457a-c40b-49af-be3f-0ac7ad5669b8",
   "metadata": {},
   "outputs": [],
   "source": [
    "# Define the key variables\n",
    "key_variables = ['date_created', 'delivery_time', 'lead_time']"
   ]
  },
  {
   "cell_type": "code",
   "execution_count": null,
   "id": "7c8fee15-ef9f-480d-92fa-e7d2dc9a9933",
   "metadata": {},
   "outputs": [],
   "source": []
  },
  {
   "cell_type": "code",
   "execution_count": 124,
   "id": "ec79054c-a4a5-4592-855a-c5d16dc51baa",
   "metadata": {},
   "outputs": [],
   "source": [
    "# Create a function for distribution plot of the variables\n",
    "\n",
    "def plot_distributions(df, columns):\n",
    "    df_plot = df.dropna(subset=columns)  # Drop NaN values for specified columns\n",
    "\n",
    "    for col in columns:\n",
    "        if df_plot[col].dtype in ['int64', 'float64']:  # Check if the column is numeric\n",
    "            plt.figure(figsize=(8, 6))  # Adjust figure size as needed\n",
    "            sns.histplot(df_plot[col].dropna(), kde=True)  # Plot histogram with KDE\n",
    "            plt.title(f'Distribution of {col}')\n",
    "            plt.xlabel(col)\n",
    "            plt.ylabel('Frequency')\n",
    "            plt.show()\n",
    "        else:\n",
    "            print(f\"Column '{col}' is not numeric and will not be plotted.\")"
   ]
  },
  {
   "cell_type": "code",
   "execution_count": 125,
   "id": "ccb6c9ed-59f4-4049-91c1-64756046120c",
   "metadata": {},
   "outputs": [],
   "source": [
    "# Create a function for plotting a box plot for the variables\n",
    "\n",
    "def plot_boxplots(df, columns):\n",
    "    df_plot = df.dropna(subset=columns)  # Drop NaN values for specified columns\n",
    "\n",
    "    for col in columns:\n",
    "        if df_plot[col].dtype in ['int64', 'float64']:  # Check if the column is numeric\n",
    "            plt.figure(figsize=(8, 6))  # Adjust figure size as needed\n",
    "            sns.boxplot(x=df_plot[col].dropna())  # Plot boxplot, dropping NaNs\n",
    "            plt.title(f'Distribution of {col}')\n",
    "            plt.xlabel(col)\n",
    "            plt.ylabel('Value')  # Adjust label based on column type\n",
    "            plt.show()\n",
    "        else:\n",
    "            print(f\"Column '{col}' is not numeric and will not be plotted.\")\n"
   ]
  },
  {
   "cell_type": "code",
   "execution_count": 126,
   "id": "8f7eab43-f805-4ee2-9063-43f4c3937107",
   "metadata": {},
   "outputs": [
    {
     "name": "stdout",
     "output_type": "stream",
     "text": [
      "Column 'date_created' is not numeric and will not be plotted.\n",
      "Column 'delivery_time' is not numeric and will not be plotted.\n"
     ]
    },
    {
     "data": {
      "image/png": "[encoded data removed]",
      "text/plain": [
       "<Figure size 800x600 with 1 Axes>"
      ]
     },
     "metadata": {},
     "output_type": "display_data"
    }
   ],
   "source": [
    "# Plot the distribution plot\n",
    "\n",
    "plot_distributions(df, key_variables)"
   ]
  },
  {
   "cell_type": "code",
   "execution_count": null,
   "id": "92690763-bad2-4b8f-9741-ac581bb64283",
   "metadata": {},
   "outputs": [],
   "source": []
  },
  {
   "cell_type": "code",
   "execution_count": 127,
   "id": "f6beb73e-1e4f-4c1d-a37f-d5487e97fdf1",
   "metadata": {},
   "outputs": [
    {
     "name": "stdout",
     "output_type": "stream",
     "text": [
      "Column 'date_created' is not numeric and will not be plotted.\n",
      "Column 'delivery_time' is not numeric and will not be plotted.\n"
     ]
    },
    {
     "data": {
      "image/png": "[encoded data removed]",
      "text/plain": [
       "<Figure size 800x600 with 1 Axes>"
      ]
     },
     "metadata": {},
     "output_type": "display_data"
    }
   ],
   "source": [
    "# plot a box plot\n",
    "\n",
    "plot_boxplots(df, key_variables)"
   ]
  },
  {
   "cell_type": "code",
   "execution_count": 128,
   "id": "969fab48-0de8-4c9c-8f10-0836d6751076",
   "metadata": {},
   "outputs": [],
   "source": [
    "# Select numeric and datetime columns\n",
    "\n",
    "selected_columns = df.select_dtypes(include=['number', 'datetime'])"
   ]
  },
  {
   "cell_type": "code",
   "execution_count": 129,
   "id": "3327d9ba-05e8-43b4-981d-c0f0f41fbe38",
   "metadata": {},
   "outputs": [
    {
     "data": {
      "text/html": [
       "<div>\n",
       "<style scoped>\n",
       "    .dataframe tbody tr th:only-of-type {\n",
       "        vertical-align: middle;\n",
       "    }\n",
       "\n",
       "    .dataframe tbody tr th {\n",
       "        vertical-align: top;\n",
       "    }\n",
       "\n",
       "    .dataframe thead th {\n",
       "        text-align: right;\n",
       "    }\n",
       "</style>\n",
       "<table border=\"1\" class=\"dataframe\">\n",
       "  <thead>\n",
       "    <tr style=\"text-align: right;\">\n",
       "      <th></th>\n",
       "      <th>date_created</th>\n",
       "      <th>delivery_time</th>\n",
       "      <th>lead_time</th>\n",
       "    </tr>\n",
       "  </thead>\n",
       "  <tbody>\n",
       "    <tr>\n",
       "      <th>0</th>\n",
       "      <td>2024-05-01 05:24:01</td>\n",
       "      <td>2024-05-01 17:00:00</td>\n",
       "      <td>11.599722</td>\n",
       "    </tr>\n",
       "    <tr>\n",
       "      <th>1</th>\n",
       "      <td>2024-05-01 06:29:03</td>\n",
       "      <td>2024-05-01 13:23:00</td>\n",
       "      <td>6.899167</td>\n",
       "    </tr>\n",
       "    <tr>\n",
       "      <th>2</th>\n",
       "      <td>2024-05-01 06:31:34</td>\n",
       "      <td>2024-05-02 16:12:00</td>\n",
       "      <td>33.673889</td>\n",
       "    </tr>\n",
       "    <tr>\n",
       "      <th>4</th>\n",
       "      <td>2024-05-01 06:56:48</td>\n",
       "      <td>2024-05-01 12:00:00</td>\n",
       "      <td>5.053333</td>\n",
       "    </tr>\n",
       "    <tr>\n",
       "      <th>5</th>\n",
       "      <td>2024-05-01 06:57:10</td>\n",
       "      <td>2024-05-01 14:23:00</td>\n",
       "      <td>7.430556</td>\n",
       "    </tr>\n",
       "  </tbody>\n",
       "</table>\n",
       "</div>"
      ],
      "text/plain": [
       "         date_created       delivery_time  lead_time\n",
       "0 2024-05-01 05:24:01 2024-05-01 17:00:00  11.599722\n",
       "1 2024-05-01 06:29:03 2024-05-01 13:23:00   6.899167\n",
       "2 2024-05-01 06:31:34 2024-05-02 16:12:00  33.673889\n",
       "4 2024-05-01 06:56:48 2024-05-01 12:00:00   5.053333\n",
       "5 2024-05-01 06:57:10 2024-05-01 14:23:00   7.430556"
      ]
     },
     "execution_count": 129,
     "metadata": {},
     "output_type": "execute_result"
    }
   ],
   "source": [
    "selected_columns.head()"
   ]
  },
  {
   "cell_type": "code",
   "execution_count": null,
   "id": "83ca85c6-be10-40b0-94bb-686ab446c447",
   "metadata": {},
   "outputs": [],
   "source": []
  },
  {
   "cell_type": "code",
   "execution_count": 130,
   "id": "acfcc71d-4863-47eb-9108-e7a8ec89a25f",
   "metadata": {},
   "outputs": [],
   "source": [
    "# Create a Function to remove outliers based on IQR\n",
    "def remove_outliers(df, columns):\n",
    "    for column in columns:\n",
    "        Q1 = df[column].quantile(0.25)\n",
    "        Q3 = df[column].quantile(0.75)\n",
    "        IQR = Q3 - Q1\n",
    "        lower_bound = Q1 - 1.5 * IQR\n",
    "        upper_bound = Q3 + 1.5 * IQR\n",
    "        df = df[(df[column] >= lower_bound) & (df[column] <= upper_bound)]\n",
    "    return df"
   ]
  },
  {
   "cell_type": "code",
   "execution_count": 131,
   "id": "e3a45e2d-1fde-40dd-aa48-1a299da33c15",
   "metadata": {},
   "outputs": [],
   "source": [
    "# Remove outliers for 'lead_time'\n",
    "df_cl = remove_outliers(df, key_variables)"
   ]
  },
  {
   "cell_type": "code",
   "execution_count": 132,
   "id": "f7822bec-e36e-4ea7-a3e3-17496f105665",
   "metadata": {},
   "outputs": [
    {
     "data": {
      "text/html": [
       "<div>\n",
       "<style scoped>\n",
       "    .dataframe tbody tr th:only-of-type {\n",
       "        vertical-align: middle;\n",
       "    }\n",
       "\n",
       "    .dataframe tbody tr th {\n",
       "        vertical-align: top;\n",
       "    }\n",
       "\n",
       "    .dataframe thead th {\n",
       "        text-align: right;\n",
       "    }\n",
       "</style>\n",
       "<table border=\"1\" class=\"dataframe\">\n",
       "  <thead>\n",
       "    <tr style=\"text-align: right;\">\n",
       "      <th></th>\n",
       "      <th>hmo_id</th>\n",
       "      <th>prescription_code</th>\n",
       "      <th>name</th>\n",
       "      <th>date_created</th>\n",
       "      <th>status</th>\n",
       "      <th>delivery_status</th>\n",
       "      <th>delivery_time</th>\n",
       "      <th>lead_time</th>\n",
       "    </tr>\n",
       "  </thead>\n",
       "  <tbody>\n",
       "    <tr>\n",
       "      <th>1</th>\n",
       "      <td>10136AVLC</td>\n",
       "      <td>294E6A17</td>\n",
       "      <td>Ijete</td>\n",
       "      <td>2024-05-01 06:29:03</td>\n",
       "      <td>Dispensed</td>\n",
       "      <td>Delivered</td>\n",
       "      <td>2024-05-01 13:23:00</td>\n",
       "      <td>6.899167</td>\n",
       "    </tr>\n",
       "    <tr>\n",
       "      <th>4</th>\n",
       "      <td>10054PVLA</td>\n",
       "      <td>850258F2</td>\n",
       "      <td>Abdullahi</td>\n",
       "      <td>2024-05-01 06:56:48</td>\n",
       "      <td>Dispensed</td>\n",
       "      <td>Delivered</td>\n",
       "      <td>2024-05-01 12:00:00</td>\n",
       "      <td>5.053333</td>\n",
       "    </tr>\n",
       "    <tr>\n",
       "      <th>5</th>\n",
       "      <td>10506OPAA</td>\n",
       "      <td>175FBA94</td>\n",
       "      <td>FAGBAMIGBE</td>\n",
       "      <td>2024-05-01 06:57:10</td>\n",
       "      <td>Dispensed</td>\n",
       "      <td>Delivered</td>\n",
       "      <td>2024-05-01 14:23:00</td>\n",
       "      <td>7.430556</td>\n",
       "    </tr>\n",
       "    <tr>\n",
       "      <th>6</th>\n",
       "      <td>10023EVGA</td>\n",
       "      <td>B8D45EBC</td>\n",
       "      <td>Ovie</td>\n",
       "      <td>2024-05-01 06:57:55</td>\n",
       "      <td>Dispensed</td>\n",
       "      <td>Delivered</td>\n",
       "      <td>2024-05-01 13:27:00</td>\n",
       "      <td>6.484722</td>\n",
       "    </tr>\n",
       "    <tr>\n",
       "      <th>8</th>\n",
       "      <td>10059OPBA</td>\n",
       "      <td>392A2E5B</td>\n",
       "      <td>Ogundare</td>\n",
       "      <td>2024-05-01 07:06:16</td>\n",
       "      <td>Dispensed</td>\n",
       "      <td>Delivered</td>\n",
       "      <td>2024-05-01 14:34:00</td>\n",
       "      <td>7.462222</td>\n",
       "    </tr>\n",
       "  </tbody>\n",
       "</table>\n",
       "</div>"
      ],
      "text/plain": [
       "      hmo_id prescription_code        name        date_created     status  \\\n",
       "1  10136AVLC          294E6A17       Ijete 2024-05-01 06:29:03  Dispensed   \n",
       "4  10054PVLA          850258F2   Abdullahi 2024-05-01 06:56:48  Dispensed   \n",
       "5  10506OPAA          175FBA94  FAGBAMIGBE 2024-05-01 06:57:10  Dispensed   \n",
       "6  10023EVGA          B8D45EBC        Ovie 2024-05-01 06:57:55  Dispensed   \n",
       "8  10059OPBA          392A2E5B    Ogundare 2024-05-01 07:06:16  Dispensed   \n",
       "\n",
       "  delivery_status       delivery_time  lead_time  \n",
       "1       Delivered 2024-05-01 13:23:00   6.899167  \n",
       "4       Delivered 2024-05-01 12:00:00   5.053333  \n",
       "5       Delivered 2024-05-01 14:23:00   7.430556  \n",
       "6       Delivered 2024-05-01 13:27:00   6.484722  \n",
       "8       Delivered 2024-05-01 14:34:00   7.462222  "
      ]
     },
     "execution_count": 132,
     "metadata": {},
     "output_type": "execute_result"
    }
   ],
   "source": [
    "df_cl.head()"
   ]
  },
  {
   "cell_type": "code",
   "execution_count": 133,
   "id": "ec3af7d4-ea70-423d-be13-4353a821a057",
   "metadata": {},
   "outputs": [
    {
     "name": "stdout",
     "output_type": "stream",
     "text": [
      "<class 'pandas.core.frame.DataFrame'>\n",
      "Index: 5339 entries, 1 to 6197\n",
      "Data columns (total 8 columns):\n",
      " #   Column             Non-Null Count  Dtype         \n",
      "---  ------             --------------  -----         \n",
      " 0   hmo_id             5339 non-null   object        \n",
      " 1   prescription_code  5339 non-null   object        \n",
      " 2   name               5339 non-null   object        \n",
      " 3   date_created       5339 non-null   datetime64[ns]\n",
      " 4   status             5339 non-null   object        \n",
      " 5   delivery_status    5339 non-null   object        \n",
      " 6   delivery_time      5339 non-null   datetime64[ns]\n",
      " 7   lead_time          5339 non-null   float64       \n",
      "dtypes: datetime64[ns](2), float64(1), object(5)\n",
      "memory usage: 375.4+ KB\n"
     ]
    }
   ],
   "source": [
    "df_cl.info()"
   ]
  },
  {
   "cell_type": "code",
   "execution_count": null,
   "id": "ca255fab-a530-4d45-8b59-1c336b737cec",
   "metadata": {},
   "outputs": [],
   "source": []
  },
  {
   "cell_type": "code",
   "execution_count": 134,
   "id": "bf6f4264-bcc3-43bb-b64d-7d69c5cc6948",
   "metadata": {},
   "outputs": [
    {
     "name": "stdout",
     "output_type": "stream",
     "text": [
      "Column 'date_created' is not numeric and will not be plotted.\n",
      "Column 'delivery_time' is not numeric and will not be plotted.\n"
     ]
    },
    {
     "data": {
      "image/png": "[encoded data removed]",
      "text/plain": [
       "<Figure size 800x600 with 1 Axes>"
      ]
     },
     "metadata": {},
     "output_type": "display_data"
    }
   ],
   "source": [
    "# distribution plot for df_cl\n",
    "\n",
    "plot_distributions(df_cl, key_variables)"
   ]
  },
  {
   "cell_type": "code",
   "execution_count": 135,
   "id": "12981e4d-6ec6-4fe6-9561-774f4dc698d3",
   "metadata": {},
   "outputs": [
    {
     "name": "stdout",
     "output_type": "stream",
     "text": [
      "Column 'date_created' is not numeric and will not be plotted.\n",
      "Column 'delivery_time' is not numeric and will not be plotted.\n"
     ]
    },
    {
     "data": {
      "image/png": "[encoded data removed]",
      "text/plain": [
       "<Figure size 800x600 with 1 Axes>"
      ]
     },
     "metadata": {},
     "output_type": "display_data"
    }
   ],
   "source": [
    "# Boxplot for df_cl\n",
    "\n",
    "plot_boxplots(df_cl, key_variables)"
   ]
  },
  {
   "cell_type": "code",
   "execution_count": null,
   "id": "d60fb614-7a5b-4b6b-8ce6-a41049c4941f",
   "metadata": {},
   "outputs": [],
   "source": []
  },
  {
   "cell_type": "code",
   "execution_count": 136,
   "id": "872c256f-bcd2-42ae-8d73-a3476230ec54",
   "metadata": {},
   "outputs": [
    {
     "data": {
      "text/html": [
       "<div>\n",
       "<style scoped>\n",
       "    .dataframe tbody tr th:only-of-type {\n",
       "        vertical-align: middle;\n",
       "    }\n",
       "\n",
       "    .dataframe tbody tr th {\n",
       "        vertical-align: top;\n",
       "    }\n",
       "\n",
       "    .dataframe thead th {\n",
       "        text-align: right;\n",
       "    }\n",
       "</style>\n",
       "<table border=\"1\" class=\"dataframe\">\n",
       "  <thead>\n",
       "    <tr style=\"text-align: right;\">\n",
       "      <th></th>\n",
       "      <th>date_created</th>\n",
       "      <th>delivery_time</th>\n",
       "      <th>lead_time</th>\n",
       "    </tr>\n",
       "  </thead>\n",
       "  <tbody>\n",
       "    <tr>\n",
       "      <th>count</th>\n",
       "      <td>5339</td>\n",
       "      <td>5339</td>\n",
       "      <td>5339.000000</td>\n",
       "    </tr>\n",
       "    <tr>\n",
       "      <th>mean</th>\n",
       "      <td>2024-05-17 04:27:26.212211968</td>\n",
       "      <td>2024-05-17 13:29:18.497846016</td>\n",
       "      <td>4.432454</td>\n",
       "    </tr>\n",
       "    <tr>\n",
       "      <th>min</th>\n",
       "      <td>2024-05-01 06:29:03</td>\n",
       "      <td>2024-05-01 11:00:00</td>\n",
       "      <td>-0.633333</td>\n",
       "    </tr>\n",
       "    <tr>\n",
       "      <th>25%</th>\n",
       "      <td>2024-05-09 13:43:34.500000</td>\n",
       "      <td>2024-05-09 17:41:30</td>\n",
       "      <td>3.057917</td>\n",
       "    </tr>\n",
       "    <tr>\n",
       "      <th>50%</th>\n",
       "      <td>2024-05-16 22:15:18</td>\n",
       "      <td>2024-05-17 11:35:00</td>\n",
       "      <td>4.081667</td>\n",
       "    </tr>\n",
       "    <tr>\n",
       "      <th>75%</th>\n",
       "      <td>2024-05-24 13:58:16.500000</td>\n",
       "      <td>2024-05-24 17:27:30</td>\n",
       "      <td>5.566667</td>\n",
       "    </tr>\n",
       "    <tr>\n",
       "      <th>max</th>\n",
       "      <td>2024-05-31 23:43:52</td>\n",
       "      <td>2024-06-01 16:50:00</td>\n",
       "      <td>10.248611</td>\n",
       "    </tr>\n",
       "    <tr>\n",
       "      <th>std</th>\n",
       "      <td>NaN</td>\n",
       "      <td>NaN</td>\n",
       "      <td>1.840754</td>\n",
       "    </tr>\n",
       "  </tbody>\n",
       "</table>\n",
       "</div>"
      ],
      "text/plain": [
       "                        date_created                  delivery_time  \\\n",
       "count                           5339                           5339   \n",
       "mean   2024-05-17 04:27:26.212211968  2024-05-17 13:29:18.497846016   \n",
       "min              2024-05-01 06:29:03            2024-05-01 11:00:00   \n",
       "25%       2024-05-09 13:43:34.500000            2024-05-09 17:41:30   \n",
       "50%              2024-05-16 22:15:18            2024-05-17 11:35:00   \n",
       "75%       2024-05-24 13:58:16.500000            2024-05-24 17:27:30   \n",
       "max              2024-05-31 23:43:52            2024-06-01 16:50:00   \n",
       "std                              NaN                            NaN   \n",
       "\n",
       "         lead_time  \n",
       "count  5339.000000  \n",
       "mean      4.432454  \n",
       "min      -0.633333  \n",
       "25%       3.057917  \n",
       "50%       4.081667  \n",
       "75%       5.566667  \n",
       "max      10.248611  \n",
       "std       1.840754  "
      ]
     },
     "execution_count": 136,
     "metadata": {},
     "output_type": "execute_result"
    }
   ],
   "source": [
    "# let print the summary statistics\n",
    "\n",
    "df_cl.describe()"
   ]
  },
  {
   "cell_type": "code",
   "execution_count": null,
   "id": "a8ae014b-c447-4276-b4f5-18f5c8ebde1d",
   "metadata": {},
   "outputs": [],
   "source": []
  },
  {
   "cell_type": "markdown",
   "id": "70c95c2a-4452-4c88-a211-cf39e0469b23",
   "metadata": {},
   "source": [
    "**Observation**\n",
    " - The presence of a negative lead_time signifies that there are delivery dates before date created which is likely due to faulty data entry\n",
    "\n",
    "**Recommendation**\n",
    "- Check for faulty entries and filter them out"
   ]
  },
  {
   "cell_type": "code",
   "execution_count": null,
   "id": "bc181f08-9e19-4975-b5ad-a54ee1e750db",
   "metadata": {},
   "outputs": [],
   "source": []
  },
  {
   "cell_type": "code",
   "execution_count": 137,
   "id": "ac0ed866-35b5-4ade-bec5-a50258140d17",
   "metadata": {},
   "outputs": [
    {
     "data": {
      "text/plain": [
       "(5339, 8)"
      ]
     },
     "execution_count": 137,
     "metadata": {},
     "output_type": "execute_result"
    }
   ],
   "source": [
    "df_cl.shape"
   ]
  },
  {
   "cell_type": "code",
   "execution_count": 138,
   "id": "fb86611a-51d9-4b42-a1de-8b1422f42350",
   "metadata": {},
   "outputs": [
    {
     "data": {
      "text/html": [
       "<div>\n",
       "<style scoped>\n",
       "    .dataframe tbody tr th:only-of-type {\n",
       "        vertical-align: middle;\n",
       "    }\n",
       "\n",
       "    .dataframe tbody tr th {\n",
       "        vertical-align: top;\n",
       "    }\n",
       "\n",
       "    .dataframe thead th {\n",
       "        text-align: right;\n",
       "    }\n",
       "</style>\n",
       "<table border=\"1\" class=\"dataframe\">\n",
       "  <thead>\n",
       "    <tr style=\"text-align: right;\">\n",
       "      <th></th>\n",
       "      <th>hmo_id</th>\n",
       "      <th>prescription_code</th>\n",
       "      <th>name</th>\n",
       "      <th>date_created</th>\n",
       "      <th>status</th>\n",
       "      <th>delivery_status</th>\n",
       "      <th>delivery_time</th>\n",
       "      <th>lead_time</th>\n",
       "    </tr>\n",
       "  </thead>\n",
       "  <tbody>\n",
       "    <tr>\n",
       "      <th>3054</th>\n",
       "      <td>10045PEOA</td>\n",
       "      <td>C9F47505</td>\n",
       "      <td>Monday</td>\n",
       "      <td>2024-05-16 10:10:16</td>\n",
       "      <td>Dispensed</td>\n",
       "      <td>Delivered</td>\n",
       "      <td>2024-05-16 10:00:00</td>\n",
       "      <td>-0.171111</td>\n",
       "    </tr>\n",
       "    <tr>\n",
       "      <th>4138</th>\n",
       "      <td>10243BHTA</td>\n",
       "      <td>F0B4B090</td>\n",
       "      <td>Enefiok</td>\n",
       "      <td>2024-05-21 20:03:02</td>\n",
       "      <td>Dispensed</td>\n",
       "      <td>Delivered</td>\n",
       "      <td>2024-05-22 07:22:00</td>\n",
       "      <td>-0.633333</td>\n",
       "    </tr>\n",
       "  </tbody>\n",
       "</table>\n",
       "</div>"
      ],
      "text/plain": [
       "         hmo_id prescription_code     name        date_created     status  \\\n",
       "3054  10045PEOA          C9F47505   Monday 2024-05-16 10:10:16  Dispensed   \n",
       "4138  10243BHTA          F0B4B090  Enefiok 2024-05-21 20:03:02  Dispensed   \n",
       "\n",
       "     delivery_status       delivery_time  lead_time  \n",
       "3054       Delivered 2024-05-16 10:00:00  -0.171111  \n",
       "4138       Delivered 2024-05-22 07:22:00  -0.633333  "
      ]
     },
     "execution_count": 138,
     "metadata": {},
     "output_type": "execute_result"
    }
   ],
   "source": [
    "df_cl[df_cl['lead_time'] < 0]"
   ]
  },
  {
   "cell_type": "code",
   "execution_count": null,
   "id": "7f2e7b96-ae89-4d86-8ce8-01f102e3f167",
   "metadata": {},
   "outputs": [],
   "source": []
  },
  {
   "cell_type": "markdown",
   "id": "4213f30a-3fae-4fa3-a0b8-d50f4d27dbdd",
   "metadata": {},
   "source": [
    "**Observation**\n",
    "- Error on 2763 occured due to faulty data entry\n",
    "- Error on 3769 occured due to the condition for calculating the delivery time since all orders created after 4 PM and not delivered the same day are\n",
    "considered as created time 8 AM the next day and delivery time is before the 8 am created time\n",
    "calculation."
   ]
  },
  {
   "cell_type": "code",
   "execution_count": 139,
   "id": "fa42ade4-6d86-47eb-862a-bedf4f484430",
   "metadata": {},
   "outputs": [
    {
     "data": {
      "text/html": [
       "<div>\n",
       "<style scoped>\n",
       "    .dataframe tbody tr th:only-of-type {\n",
       "        vertical-align: middle;\n",
       "    }\n",
       "\n",
       "    .dataframe tbody tr th {\n",
       "        vertical-align: top;\n",
       "    }\n",
       "\n",
       "    .dataframe thead th {\n",
       "        text-align: right;\n",
       "    }\n",
       "</style>\n",
       "<table border=\"1\" class=\"dataframe\">\n",
       "  <thead>\n",
       "    <tr style=\"text-align: right;\">\n",
       "      <th></th>\n",
       "      <th>date_created</th>\n",
       "      <th>delivery_time</th>\n",
       "      <th>lead_time</th>\n",
       "    </tr>\n",
       "  </thead>\n",
       "  <tbody>\n",
       "    <tr>\n",
       "      <th>count</th>\n",
       "      <td>5337</td>\n",
       "      <td>5337</td>\n",
       "      <td>5337.000000</td>\n",
       "    </tr>\n",
       "    <tr>\n",
       "      <th>mean</th>\n",
       "      <td>2024-05-17 04:26:23.273187328</td>\n",
       "      <td>2024-05-17 13:28:20.224845568</td>\n",
       "      <td>4.434265</td>\n",
       "    </tr>\n",
       "    <tr>\n",
       "      <th>min</th>\n",
       "      <td>2024-05-01 06:29:03</td>\n",
       "      <td>2024-05-01 11:00:00</td>\n",
       "      <td>0.000000</td>\n",
       "    </tr>\n",
       "    <tr>\n",
       "      <th>25%</th>\n",
       "      <td>2024-05-09 13:42:22</td>\n",
       "      <td>2024-05-09 17:40:00</td>\n",
       "      <td>3.058611</td>\n",
       "    </tr>\n",
       "    <tr>\n",
       "      <th>50%</th>\n",
       "      <td>2024-05-16 22:15:18</td>\n",
       "      <td>2024-05-17 11:35:00</td>\n",
       "      <td>4.082500</td>\n",
       "    </tr>\n",
       "    <tr>\n",
       "      <th>75%</th>\n",
       "      <td>2024-05-24 14:02:22</td>\n",
       "      <td>2024-05-24 17:34:00</td>\n",
       "      <td>5.566667</td>\n",
       "    </tr>\n",
       "    <tr>\n",
       "      <th>max</th>\n",
       "      <td>2024-05-31 23:43:52</td>\n",
       "      <td>2024-06-01 16:50:00</td>\n",
       "      <td>10.248611</td>\n",
       "    </tr>\n",
       "    <tr>\n",
       "      <th>std</th>\n",
       "      <td>NaN</td>\n",
       "      <td>NaN</td>\n",
       "      <td>1.838712</td>\n",
       "    </tr>\n",
       "  </tbody>\n",
       "</table>\n",
       "</div>"
      ],
      "text/plain": [
       "                        date_created                  delivery_time  \\\n",
       "count                           5337                           5337   \n",
       "mean   2024-05-17 04:26:23.273187328  2024-05-17 13:28:20.224845568   \n",
       "min              2024-05-01 06:29:03            2024-05-01 11:00:00   \n",
       "25%              2024-05-09 13:42:22            2024-05-09 17:40:00   \n",
       "50%              2024-05-16 22:15:18            2024-05-17 11:35:00   \n",
       "75%              2024-05-24 14:02:22            2024-05-24 17:34:00   \n",
       "max              2024-05-31 23:43:52            2024-06-01 16:50:00   \n",
       "std                              NaN                            NaN   \n",
       "\n",
       "         lead_time  \n",
       "count  5337.000000  \n",
       "mean      4.434265  \n",
       "min       0.000000  \n",
       "25%       3.058611  \n",
       "50%       4.082500  \n",
       "75%       5.566667  \n",
       "max      10.248611  \n",
       "std       1.838712  "
      ]
     },
     "execution_count": 139,
     "metadata": {},
     "output_type": "execute_result"
    }
   ],
   "source": [
    "# Remove the negative values\n",
    "\n",
    "df_cl = df_cl[df_cl['lead_time'] >= 0]\n",
    "df_cl.describe()"
   ]
  },
  {
   "cell_type": "code",
   "execution_count": null,
   "id": "61aba5aa-c18f-4a31-a3a4-fc71cc289152",
   "metadata": {},
   "outputs": [],
   "source": []
  },
  {
   "cell_type": "code",
   "execution_count": 140,
   "id": "a6f9d1cb-6222-41db-9a7e-5c373eede8ca",
   "metadata": {},
   "outputs": [
    {
     "data": {
      "text/html": [
       "<div>\n",
       "<style scoped>\n",
       "    .dataframe tbody tr th:only-of-type {\n",
       "        vertical-align: middle;\n",
       "    }\n",
       "\n",
       "    .dataframe tbody tr th {\n",
       "        vertical-align: top;\n",
       "    }\n",
       "\n",
       "    .dataframe thead th {\n",
       "        text-align: right;\n",
       "    }\n",
       "</style>\n",
       "<table border=\"1\" class=\"dataframe\">\n",
       "  <thead>\n",
       "    <tr style=\"text-align: right;\">\n",
       "      <th></th>\n",
       "      <th>hmo_id</th>\n",
       "      <th>prescription_code</th>\n",
       "      <th>name</th>\n",
       "      <th>date_created</th>\n",
       "      <th>status</th>\n",
       "      <th>delivery_status</th>\n",
       "      <th>delivery_time</th>\n",
       "      <th>lead_time</th>\n",
       "    </tr>\n",
       "  </thead>\n",
       "  <tbody>\n",
       "    <tr>\n",
       "      <th>1016</th>\n",
       "      <td>10034DPDC</td>\n",
       "      <td>D81A55BF</td>\n",
       "      <td>CHIJIOKE</td>\n",
       "      <td>2024-05-06 19:00:14</td>\n",
       "      <td>Dispensed</td>\n",
       "      <td>Delivered</td>\n",
       "      <td>2024-05-07 08:00:00</td>\n",
       "      <td>0.0</td>\n",
       "    </tr>\n",
       "  </tbody>\n",
       "</table>\n",
       "</div>"
      ],
      "text/plain": [
       "         hmo_id prescription_code      name        date_created     status  \\\n",
       "1016  10034DPDC          D81A55BF  CHIJIOKE 2024-05-06 19:00:14  Dispensed   \n",
       "\n",
       "     delivery_status       delivery_time  lead_time  \n",
       "1016       Delivered 2024-05-07 08:00:00        0.0  "
      ]
     },
     "execution_count": 140,
     "metadata": {},
     "output_type": "execute_result"
    }
   ],
   "source": [
    "df_cl[df_cl['lead_time'] == 0.000000]"
   ]
  },
  {
   "cell_type": "code",
   "execution_count": null,
   "id": "25f0278a-ecc8-41e7-951a-c94e1e7f6cbb",
   "metadata": {},
   "outputs": [],
   "source": []
  },
  {
   "cell_type": "markdown",
   "id": "09cdfb98-b76c-444f-a067-bc38cfa812d9",
   "metadata": {},
   "source": [
    "**Observation**\n",
    "- The prescription made after 4pm delivered exactly 8am the next day had 0.00 lead_time which seldome occurs but I'm going to make room for such records"
   ]
  },
  {
   "cell_type": "code",
   "execution_count": null,
   "id": "6502409f-7ec7-4629-928c-a86a85b1892f",
   "metadata": {},
   "outputs": [],
   "source": []
  },
  {
   "cell_type": "code",
   "execution_count": 141,
   "id": "4f277545-1978-4d56-94b3-e4532fdaddbf",
   "metadata": {},
   "outputs": [
    {
     "name": "stdout",
     "output_type": "stream",
     "text": [
      "Column 'date_created' is not numeric and will not be plotted.\n",
      "Column 'delivery_time' is not numeric and will not be plotted.\n"
     ]
    },
    {
     "data": {
      "image/png": "[encoded data removed]",
      "text/plain": [
       "<Figure size 800x600 with 1 Axes>"
      ]
     },
     "metadata": {},
     "output_type": "display_data"
    }
   ],
   "source": [
    "# Plot distribution for clean data\n",
    "\n",
    "plot_distributions(df_cl, key_variables)"
   ]
  },
  {
   "cell_type": "code",
   "execution_count": 142,
   "id": "148cadc1-4969-446d-985e-6f9b87c56453",
   "metadata": {},
   "outputs": [
    {
     "name": "stdout",
     "output_type": "stream",
     "text": [
      "Column 'date_created' is not numeric and will not be plotted.\n",
      "Column 'delivery_time' is not numeric and will not be plotted.\n"
     ]
    },
    {
     "data": {
      "image/png": "[encoded data removed]",
      "text/plain": [
       "<Figure size 800x600 with 1 Axes>"
      ]
     },
     "metadata": {},
     "output_type": "display_data"
    }
   ],
   "source": [
    "# plot a boxplot for clean data\n",
    "\n",
    "plot_boxplots(df_cl, key_variables)"
   ]
  },
  {
   "cell_type": "code",
   "execution_count": null,
   "id": "8182bdeb-e65b-490a-afd6-92e8cfe7e8eb",
   "metadata": {},
   "outputs": [],
   "source": []
  },
  {
   "cell_type": "code",
   "execution_count": null,
   "id": "b4244901-2af1-4b44-8872-bed4020efc3a",
   "metadata": {},
   "outputs": [],
   "source": []
  },
  {
   "cell_type": "markdown",
   "id": "7f4d8d4e-caec-4749-bff5-36c88c39c786",
   "metadata": {},
   "source": [
    "### Save the Cleaned data into an outputexcel format"
   ]
  },
  {
   "cell_type": "code",
   "execution_count": 143,
   "id": "ccda8820-d0a6-4c69-8b9c-cdaf766bda8b",
   "metadata": {},
   "outputs": [],
   "source": [
    "# copy the cleaned data into a new dataframe called df_cleaned\n",
    "\n",
    "df_cleaned = df_cl.copy()\n",
    "\n",
    "# Set file name to Assessment_Data_Output as output DataFrame\n",
    "file_path = 'Assessment_Data_Output.xlsx'\n",
    "df_cleaned.to_excel(file_path, index=False)"
   ]
  },
  {
   "cell_type": "code",
   "execution_count": null,
   "id": "d983e4ed-7a25-4740-afee-48b053633e11",
   "metadata": {},
   "outputs": [],
   "source": []
  },
  {
   "cell_type": "code",
   "execution_count": null,
   "id": "2dcd9ce7-8981-4c08-a3db-383337cbb9da",
   "metadata": {},
   "outputs": [],
   "source": []
  },
  {
   "cell_type": "code",
   "execution_count": null,
   "id": "8738addd-51ef-4943-bde2-8360513d2d2f",
   "metadata": {},
   "outputs": [],
   "source": []
  }
 ],
 "metadata": {
  "kernelspec": {
   "display_name": "Python 3 (ipykernel)",
   "language": "python",
   "name": "python3"
  },
  "language_info": {
   "codemirror_mode": {
    "name": "ipython",
    "version": 3
   },
   "file_extension": ".py",
   "mimetype": "text/x-python",
   "name": "python",
   "nbconvert_exporter": "python",
   "pygments_lexer": "ipython3",
   "version": "3.9.18"
  }
 },
 "nbformat": 4,
 "nbformat_minor": 5
}
