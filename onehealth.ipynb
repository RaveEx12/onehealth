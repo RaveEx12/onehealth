{
 "cells": [
  {
   "cell_type": "markdown",
   "id": "edc8b532-470b-44bb-904d-17318b131bca",
   "metadata": {},
   "source": [
    "# One Health Job Assessment"
   ]
  },
  {
   "cell_type": "code",
   "execution_count": 1,
   "id": "1e1e757e-2905-4579-b0ab-41fb3421528f",
   "metadata": {},
   "outputs": [],
   "source": [
    "# Importing dependables\n",
    "\n",
    "import numpy as np\n",
    "import pandas as pd\n",
    "import matplotlib.pyplot as plt\n",
    "import seaborn as sns\n",
    "import zipfile  # for dealing with zip files\n",
    "from datetime import timedelta  # for dealing with time series calculations\n",
    "\n",
    "import warnings\n",
    "# Suppress all warnings within a code block\n",
    "warnings.filterwarnings(\"ignore\")"
   ]
  },
  {
   "cell_type": "code",
   "execution_count": 2,
   "id": "e78713dc-4183-479b-9be1-08d1d3c88ab0",
   "metadata": {},
   "outputs": [],
   "source": [
    "# Open the zip file in read mode\n",
    "\n",
    "with zipfile.ZipFile(\"onehealthzip.zip\", 'r'):  # this code opens the zip file\n",
    "    df = pd.read_excel('Assessment Data.xlsx')  # this code reads the excel file into a data frame"
   ]
  },
  {
   "cell_type": "code",
   "execution_count": 3,
   "id": "a4229fa5-1012-49ae-a475-5a3b8f524186",
   "metadata": {},
   "outputs": [
    {
     "data": {
      "text/html": [
       "<div>\n",
       "<style scoped>\n",
       "    .dataframe tbody tr th:only-of-type {\n",
       "        vertical-align: middle;\n",
       "    }\n",
       "\n",
       "    .dataframe tbody tr th {\n",
       "        vertical-align: top;\n",
       "    }\n",
       "\n",
       "    .dataframe thead th {\n",
       "        text-align: right;\n",
       "    }\n",
       "</style>\n",
       "<table border=\"1\" class=\"dataframe\">\n",
       "  <thead>\n",
       "    <tr style=\"text-align: right;\">\n",
       "      <th></th>\n",
       "      <th>HMO ID</th>\n",
       "      <th>Prescription Code</th>\n",
       "      <th>Name</th>\n",
       "      <th>Date created</th>\n",
       "      <th>STATUS</th>\n",
       "      <th>Delivery Status</th>\n",
       "      <th>Delivery Time</th>\n",
       "      <th>Unnamed: 7</th>\n",
       "    </tr>\n",
       "  </thead>\n",
       "  <tbody>\n",
       "    <tr>\n",
       "      <th>0</th>\n",
       "      <td>10007RUTA</td>\n",
       "      <td>90A67E39</td>\n",
       "      <td>Aretola</td>\n",
       "      <td>2024-05-01 05:24:01</td>\n",
       "      <td>Dispensed</td>\n",
       "      <td>Delivered</td>\n",
       "      <td>2024-05-01 17:00:00</td>\n",
       "      <td>NaN</td>\n",
       "    </tr>\n",
       "    <tr>\n",
       "      <th>1</th>\n",
       "      <td>10136AVLC</td>\n",
       "      <td>294E6A17</td>\n",
       "      <td>Ijete</td>\n",
       "      <td>2024-05-01 06:29:03</td>\n",
       "      <td>Dispensed</td>\n",
       "      <td>Delivered</td>\n",
       "      <td>2024-05-01 13:23:00</td>\n",
       "      <td>NaN</td>\n",
       "    </tr>\n",
       "    <tr>\n",
       "      <th>2</th>\n",
       "      <td>10047IPOB</td>\n",
       "      <td>A98A9111</td>\n",
       "      <td>Afiomah</td>\n",
       "      <td>2024-05-01 06:31:34</td>\n",
       "      <td>Dispensed</td>\n",
       "      <td>Delivered</td>\n",
       "      <td>2024-05-02 16:12:00</td>\n",
       "      <td>Enrollee number not connecting, reroute 2nd</td>\n",
       "    </tr>\n",
       "    <tr>\n",
       "      <th>3</th>\n",
       "      <td>10026CSHB</td>\n",
       "      <td>D34456FA</td>\n",
       "      <td>Olaomi</td>\n",
       "      <td>2024-05-01 06:37:31</td>\n",
       "      <td>Dispensed</td>\n",
       "      <td>Delivered</td>\n",
       "      <td>NaT</td>\n",
       "      <td>NaN</td>\n",
       "    </tr>\n",
       "    <tr>\n",
       "      <th>4</th>\n",
       "      <td>10054PVLA</td>\n",
       "      <td>850258F2</td>\n",
       "      <td>Abdullahi</td>\n",
       "      <td>2024-05-01 06:56:48</td>\n",
       "      <td>Dispensed</td>\n",
       "      <td>Delivered</td>\n",
       "      <td>2024-05-01 12:00:00</td>\n",
       "      <td>NaN</td>\n",
       "    </tr>\n",
       "  </tbody>\n",
       "</table>\n",
       "</div>"
      ],
      "text/plain": [
       "      HMO ID Prescription Code       Name        Date created     STATUS  \\\n",
       "0  10007RUTA          90A67E39    Aretola 2024-05-01 05:24:01  Dispensed   \n",
       "1  10136AVLC          294E6A17      Ijete 2024-05-01 06:29:03  Dispensed   \n",
       "2  10047IPOB          A98A9111    Afiomah 2024-05-01 06:31:34  Dispensed   \n",
       "3  10026CSHB          D34456FA     Olaomi 2024-05-01 06:37:31  Dispensed   \n",
       "4  10054PVLA          850258F2  Abdullahi 2024-05-01 06:56:48  Dispensed   \n",
       "\n",
       "  Delivery Status       Delivery Time  \\\n",
       "0       Delivered 2024-05-01 17:00:00   \n",
       "1       Delivered 2024-05-01 13:23:00   \n",
       "2       Delivered 2024-05-02 16:12:00   \n",
       "3       Delivered                 NaT   \n",
       "4       Delivered 2024-05-01 12:00:00   \n",
       "\n",
       "                                     Unnamed: 7  \n",
       "0                                           NaN  \n",
       "1                                           NaN  \n",
       "2  Enrollee number not connecting, reroute 2nd   \n",
       "3                                           NaN  \n",
       "4                                           NaN  "
      ]
     },
     "execution_count": 3,
     "metadata": {},
     "output_type": "execute_result"
    }
   ],
   "source": [
    "df.head()"
   ]
  },
  {
   "cell_type": "code",
   "execution_count": null,
   "id": "f39f0c59-49a5-4848-b67b-f90bce9211a6",
   "metadata": {},
   "outputs": [],
   "source": []
  },
  {
   "cell_type": "code",
   "execution_count": 4,
   "id": "d50ec576-990d-4aba-8e16-efd65b974f08",
   "metadata": {},
   "outputs": [
    {
     "name": "stdout",
     "output_type": "stream",
     "text": [
      "The total number of column in the df is: 8\n",
      "The total number of rows in the df is: 6198\n"
     ]
    }
   ],
   "source": [
    "# Check for the dimension of the data set\n",
    "\n",
    "print(f\"The total number of column in the df is: {df.shape[1]}\")\n",
    "print(f\"The total number of rows in the df is: {df.shape[0]}\")"
   ]
  },
  {
   "cell_type": "code",
   "execution_count": 5,
   "id": "4222808e-1983-4241-9949-cab40251c48c",
   "metadata": {},
   "outputs": [
    {
     "name": "stdout",
     "output_type": "stream",
     "text": [
      "<class 'pandas.core.frame.DataFrame'>\n",
      "RangeIndex: 6198 entries, 0 to 6197\n",
      "Data columns (total 8 columns):\n",
      " #   Column             Non-Null Count  Dtype         \n",
      "---  ------             --------------  -----         \n",
      " 0   HMO ID             6197 non-null   object        \n",
      " 1   Prescription Code  6196 non-null   object        \n",
      " 2   Name               6198 non-null   object        \n",
      " 3   Date created       6198 non-null   datetime64[ns]\n",
      " 4   STATUS             6198 non-null   object        \n",
      " 5   Delivery Status    6193 non-null   object        \n",
      " 6   Delivery Time      5702 non-null   datetime64[ns]\n",
      " 7   Unnamed: 7         194 non-null    object        \n",
      "dtypes: datetime64[ns](2), object(6)\n",
      "memory usage: 387.5+ KB\n"
     ]
    }
   ],
   "source": [
    "# check the data for inconsistencies like Null values and column name formats\n",
    "\n",
    "df.info()"
   ]
  },
  {
   "cell_type": "code",
   "execution_count": null,
   "id": "3616cdf1-9ffb-482c-898d-43d72fb6bd05",
   "metadata": {},
   "outputs": [],
   "source": []
  },
  {
   "cell_type": "markdown",
   "id": "a7bfb8ea-ffe6-47ca-b123-64655ff0f84e",
   "metadata": {},
   "source": [
    "### Observations\n",
    "- the date columns are not in the correct format\n",
    "- there some Null values in the Delivery Time Column\n",
    "- the feature names are not consistent\n",
    "- the last column unnamed: 7 is irrelevant to the task"
   ]
  },
  {
   "cell_type": "code",
   "execution_count": null,
   "id": "1d743e96-45bd-4d10-a7f4-b35117e92fd7",
   "metadata": {},
   "outputs": [],
   "source": []
  },
  {
   "cell_type": "markdown",
   "id": "2418de96-6166-40c3-bcac-2e80cef0a45d",
   "metadata": {},
   "source": [
    "# Data Cleaning and Preparation"
   ]
  },
  {
   "cell_type": "code",
   "execution_count": 6,
   "id": "386e791b-c86a-4a07-a9a3-4b391b31c497",
   "metadata": {},
   "outputs": [
    {
     "name": "stdout",
     "output_type": "stream",
     "text": [
      "HMO ID                  1\n",
      "Prescription Code       2\n",
      "Name                    0\n",
      "Date created            0\n",
      "STATUS                  0\n",
      "Delivery Status         5\n",
      "Delivery Time         496\n",
      "Unnamed: 7           6004\n",
      "dtype: int64\n"
     ]
    }
   ],
   "source": [
    "# Checking for missing Values\n",
    "\n",
    "print(df.isnull().sum())"
   ]
  },
  {
   "cell_type": "code",
   "execution_count": null,
   "id": "347d5417-8fcf-446f-acf4-75765b3da9b8",
   "metadata": {},
   "outputs": [],
   "source": []
  },
  {
   "cell_type": "code",
   "execution_count": 7,
   "id": "0400746a-0293-4afc-a9b5-7a97a308aa39",
   "metadata": {},
   "outputs": [
    {
     "name": "stdout",
     "output_type": "stream",
     "text": [
      "HMO ID                0.016134\n",
      "Prescription Code     0.032268\n",
      "Name                  0.000000\n",
      "Date created          0.000000\n",
      "STATUS                0.000000\n",
      "Delivery Status       0.080671\n",
      "Delivery Time         8.002581\n",
      "Unnamed: 7           96.869958\n",
      "dtype: float64\n"
     ]
    }
   ],
   "source": [
    "# calculate the percentages of missing values\n",
    "\n",
    "missing_value_percentages = (df.isnull().sum() / df.shape[0]) * 100\n",
    "print(missing_value_percentages)"
   ]
  },
  {
   "cell_type": "code",
   "execution_count": 8,
   "id": "06eeadad-65ad-4c68-b757-54b993b929ee",
   "metadata": {},
   "outputs": [],
   "source": [
    "# We will also drop the unnamed: 7 column.\n",
    "# Since the percentage of null values in the Delivery Time is not up to 20% of \n",
    "# The total number of roles in the data set we will drop the null values.\n",
    "\n",
    "# Create a funtion that will take a data frame object:\n",
    "# remove the null values and unnecessary columns, \n",
    "# Standardize the date time columns i.e convert the datetime columns to datetime data type\n",
    "\n",
    "def remove_nullValues_unneccessary_col (df):\n",
    "    '''This function takes in a data frame and remove the unwanted features and null values\n",
    "       Convert the date time features to the date time format\n",
    "    '''\n",
    "    # drop the column\n",
    "    df = df.drop(\"Unnamed: 7\", axis = 1)\n",
    "    df = df.dropna()\n",
    "    # Standardize date and time formats\n",
    "    df['Date created'] = pd.to_datetime(df['Date created'])\n",
    "    df['Delivery Time'] = pd.to_datetime(df['Delivery Time'])\n",
    "    \n",
    "    return df\n"
   ]
  },
  {
   "cell_type": "code",
   "execution_count": 9,
   "id": "c598c0ea-a243-4642-a584-710419b0371f",
   "metadata": {},
   "outputs": [
    {
     "data": {
      "text/html": [
       "<div>\n",
       "<style scoped>\n",
       "    .dataframe tbody tr th:only-of-type {\n",
       "        vertical-align: middle;\n",
       "    }\n",
       "\n",
       "    .dataframe tbody tr th {\n",
       "        vertical-align: top;\n",
       "    }\n",
       "\n",
       "    .dataframe thead th {\n",
       "        text-align: right;\n",
       "    }\n",
       "</style>\n",
       "<table border=\"1\" class=\"dataframe\">\n",
       "  <thead>\n",
       "    <tr style=\"text-align: right;\">\n",
       "      <th></th>\n",
       "      <th>HMO ID</th>\n",
       "      <th>Prescription Code</th>\n",
       "      <th>Name</th>\n",
       "      <th>Date created</th>\n",
       "      <th>STATUS</th>\n",
       "      <th>Delivery Status</th>\n",
       "      <th>Delivery Time</th>\n",
       "    </tr>\n",
       "  </thead>\n",
       "  <tbody>\n",
       "    <tr>\n",
       "      <th>0</th>\n",
       "      <td>10007RUTA</td>\n",
       "      <td>90A67E39</td>\n",
       "      <td>Aretola</td>\n",
       "      <td>2024-05-01 05:24:01</td>\n",
       "      <td>Dispensed</td>\n",
       "      <td>Delivered</td>\n",
       "      <td>2024-05-01 17:00:00</td>\n",
       "    </tr>\n",
       "    <tr>\n",
       "      <th>1</th>\n",
       "      <td>10136AVLC</td>\n",
       "      <td>294E6A17</td>\n",
       "      <td>Ijete</td>\n",
       "      <td>2024-05-01 06:29:03</td>\n",
       "      <td>Dispensed</td>\n",
       "      <td>Delivered</td>\n",
       "      <td>2024-05-01 13:23:00</td>\n",
       "    </tr>\n",
       "    <tr>\n",
       "      <th>2</th>\n",
       "      <td>10047IPOB</td>\n",
       "      <td>A98A9111</td>\n",
       "      <td>Afiomah</td>\n",
       "      <td>2024-05-01 06:31:34</td>\n",
       "      <td>Dispensed</td>\n",
       "      <td>Delivered</td>\n",
       "      <td>2024-05-02 16:12:00</td>\n",
       "    </tr>\n",
       "    <tr>\n",
       "      <th>4</th>\n",
       "      <td>10054PVLA</td>\n",
       "      <td>850258F2</td>\n",
       "      <td>Abdullahi</td>\n",
       "      <td>2024-05-01 06:56:48</td>\n",
       "      <td>Dispensed</td>\n",
       "      <td>Delivered</td>\n",
       "      <td>2024-05-01 12:00:00</td>\n",
       "    </tr>\n",
       "    <tr>\n",
       "      <th>5</th>\n",
       "      <td>10506OPAA</td>\n",
       "      <td>175FBA94</td>\n",
       "      <td>FAGBAMIGBE</td>\n",
       "      <td>2024-05-01 06:57:10</td>\n",
       "      <td>Dispensed</td>\n",
       "      <td>Delivered</td>\n",
       "      <td>2024-05-01 14:23:00</td>\n",
       "    </tr>\n",
       "  </tbody>\n",
       "</table>\n",
       "</div>"
      ],
      "text/plain": [
       "      HMO ID Prescription Code        Name        Date created     STATUS  \\\n",
       "0  10007RUTA          90A67E39     Aretola 2024-05-01 05:24:01  Dispensed   \n",
       "1  10136AVLC          294E6A17       Ijete 2024-05-01 06:29:03  Dispensed   \n",
       "2  10047IPOB          A98A9111     Afiomah 2024-05-01 06:31:34  Dispensed   \n",
       "4  10054PVLA          850258F2   Abdullahi 2024-05-01 06:56:48  Dispensed   \n",
       "5  10506OPAA          175FBA94  FAGBAMIGBE 2024-05-01 06:57:10  Dispensed   \n",
       "\n",
       "  Delivery Status       Delivery Time  \n",
       "0       Delivered 2024-05-01 17:00:00  \n",
       "1       Delivered 2024-05-01 13:23:00  \n",
       "2       Delivered 2024-05-02 16:12:00  \n",
       "4       Delivered 2024-05-01 12:00:00  \n",
       "5       Delivered 2024-05-01 14:23:00  "
      ]
     },
     "execution_count": 9,
     "metadata": {},
     "output_type": "execute_result"
    }
   ],
   "source": [
    "# pass the data frame through the function\n",
    "df = remove_nullValues_unneccessary_col(df)\n",
    "df.head()"
   ]
  },
  {
   "cell_type": "code",
   "execution_count": null,
   "id": "8119b601-190f-4555-ab95-66262f09ba1b",
   "metadata": {},
   "outputs": [],
   "source": []
  },
  {
   "cell_type": "code",
   "execution_count": 10,
   "id": "6f62dc7b-8691-47b1-a970-ee470da5e68e",
   "metadata": {},
   "outputs": [
    {
     "name": "stdout",
     "output_type": "stream",
     "text": [
      "<class 'pandas.core.frame.DataFrame'>\n",
      "Index: 5700 entries, 0 to 6197\n",
      "Data columns (total 7 columns):\n",
      " #   Column             Non-Null Count  Dtype         \n",
      "---  ------             --------------  -----         \n",
      " 0   HMO ID             5700 non-null   object        \n",
      " 1   Prescription Code  5700 non-null   object        \n",
      " 2   Name               5700 non-null   object        \n",
      " 3   Date created       5700 non-null   datetime64[ns]\n",
      " 4   STATUS             5700 non-null   object        \n",
      " 5   Delivery Status    5700 non-null   object        \n",
      " 6   Delivery Time      5700 non-null   datetime64[ns]\n",
      "dtypes: datetime64[ns](2), object(5)\n",
      "memory usage: 356.2+ KB\n"
     ]
    }
   ],
   "source": [
    "# check for inconsistencies\n",
    "\n",
    "df.info()"
   ]
  },
  {
   "cell_type": "code",
   "execution_count": 11,
   "id": "0469a7b7-81c3-461d-bd14-6e6f2bb95465",
   "metadata": {},
   "outputs": [
    {
     "data": {
      "text/plain": [
       "HMO ID               0\n",
       "Prescription Code    0\n",
       "Name                 0\n",
       "Date created         0\n",
       "STATUS               0\n",
       "Delivery Status      0\n",
       "Delivery Time        0\n",
       "dtype: int64"
      ]
     },
     "execution_count": 11,
     "metadata": {},
     "output_type": "execute_result"
    }
   ],
   "source": [
    "# check if there are still null values\n",
    "\n",
    "df.isnull().sum()"
   ]
  },
  {
   "cell_type": "code",
   "execution_count": 12,
   "id": "3874d79f-4109-4447-b021-de9aadc992ce",
   "metadata": {},
   "outputs": [
    {
     "data": {
      "text/plain": [
       "Index(['HMO ID', 'Prescription Code', 'Name', 'Date created', 'STATUS',\n",
       "       'Delivery Status', 'Delivery Time'],\n",
       "      dtype='object')"
      ]
     },
     "execution_count": 12,
     "metadata": {},
     "output_type": "execute_result"
    }
   ],
   "source": [
    "df.columns"
   ]
  },
  {
   "cell_type": "code",
   "execution_count": 13,
   "id": "b4d50bdd-f473-44af-b861-48b819ab8c46",
   "metadata": {},
   "outputs": [
    {
     "data": {
      "text/plain": [
       "Index(['hmo_id', 'prescription_code', 'name', 'date_created', 'status',\n",
       "       'delivery_status', 'delivery_time'],\n",
       "      dtype='object')"
      ]
     },
     "execution_count": 13,
     "metadata": {},
     "output_type": "execute_result"
    }
   ],
   "source": [
    "# Sine the column names are inconsistent, lets make it consistent as follows:\n",
    "\n",
    "old_names = df.columns\n",
    "new_names = [name.replace(' ', '_').lower() for name in old_names]  # this syntax fixes the inconsistencies in the column names\n",
    "\n",
    "df.columns = new_names\n",
    "df.columns"
   ]
  },
  {
   "cell_type": "code",
   "execution_count": 14,
   "id": "01fd7d84-0da7-4f85-a1ab-0e11154e8976",
   "metadata": {},
   "outputs": [
    {
     "data": {
      "text/html": [
       "<div>\n",
       "<style scoped>\n",
       "    .dataframe tbody tr th:only-of-type {\n",
       "        vertical-align: middle;\n",
       "    }\n",
       "\n",
       "    .dataframe tbody tr th {\n",
       "        vertical-align: top;\n",
       "    }\n",
       "\n",
       "    .dataframe thead th {\n",
       "        text-align: right;\n",
       "    }\n",
       "</style>\n",
       "<table border=\"1\" class=\"dataframe\">\n",
       "  <thead>\n",
       "    <tr style=\"text-align: right;\">\n",
       "      <th></th>\n",
       "      <th>hmo_id</th>\n",
       "      <th>prescription_code</th>\n",
       "      <th>name</th>\n",
       "      <th>date_created</th>\n",
       "      <th>status</th>\n",
       "      <th>delivery_status</th>\n",
       "      <th>delivery_time</th>\n",
       "    </tr>\n",
       "  </thead>\n",
       "  <tbody>\n",
       "    <tr>\n",
       "      <th>0</th>\n",
       "      <td>10007RUTA</td>\n",
       "      <td>90A67E39</td>\n",
       "      <td>Aretola</td>\n",
       "      <td>2024-05-01 05:24:01</td>\n",
       "      <td>Dispensed</td>\n",
       "      <td>Delivered</td>\n",
       "      <td>2024-05-01 17:00:00</td>\n",
       "    </tr>\n",
       "    <tr>\n",
       "      <th>1</th>\n",
       "      <td>10136AVLC</td>\n",
       "      <td>294E6A17</td>\n",
       "      <td>Ijete</td>\n",
       "      <td>2024-05-01 06:29:03</td>\n",
       "      <td>Dispensed</td>\n",
       "      <td>Delivered</td>\n",
       "      <td>2024-05-01 13:23:00</td>\n",
       "    </tr>\n",
       "    <tr>\n",
       "      <th>2</th>\n",
       "      <td>10047IPOB</td>\n",
       "      <td>A98A9111</td>\n",
       "      <td>Afiomah</td>\n",
       "      <td>2024-05-01 06:31:34</td>\n",
       "      <td>Dispensed</td>\n",
       "      <td>Delivered</td>\n",
       "      <td>2024-05-02 16:12:00</td>\n",
       "    </tr>\n",
       "    <tr>\n",
       "      <th>4</th>\n",
       "      <td>10054PVLA</td>\n",
       "      <td>850258F2</td>\n",
       "      <td>Abdullahi</td>\n",
       "      <td>2024-05-01 06:56:48</td>\n",
       "      <td>Dispensed</td>\n",
       "      <td>Delivered</td>\n",
       "      <td>2024-05-01 12:00:00</td>\n",
       "    </tr>\n",
       "    <tr>\n",
       "      <th>5</th>\n",
       "      <td>10506OPAA</td>\n",
       "      <td>175FBA94</td>\n",
       "      <td>FAGBAMIGBE</td>\n",
       "      <td>2024-05-01 06:57:10</td>\n",
       "      <td>Dispensed</td>\n",
       "      <td>Delivered</td>\n",
       "      <td>2024-05-01 14:23:00</td>\n",
       "    </tr>\n",
       "  </tbody>\n",
       "</table>\n",
       "</div>"
      ],
      "text/plain": [
       "      hmo_id prescription_code        name        date_created     status  \\\n",
       "0  10007RUTA          90A67E39     Aretola 2024-05-01 05:24:01  Dispensed   \n",
       "1  10136AVLC          294E6A17       Ijete 2024-05-01 06:29:03  Dispensed   \n",
       "2  10047IPOB          A98A9111     Afiomah 2024-05-01 06:31:34  Dispensed   \n",
       "4  10054PVLA          850258F2   Abdullahi 2024-05-01 06:56:48  Dispensed   \n",
       "5  10506OPAA          175FBA94  FAGBAMIGBE 2024-05-01 06:57:10  Dispensed   \n",
       "\n",
       "  delivery_status       delivery_time  \n",
       "0       Delivered 2024-05-01 17:00:00  \n",
       "1       Delivered 2024-05-01 13:23:00  \n",
       "2       Delivered 2024-05-02 16:12:00  \n",
       "4       Delivered 2024-05-01 12:00:00  \n",
       "5       Delivered 2024-05-01 14:23:00  "
      ]
     },
     "execution_count": 14,
     "metadata": {},
     "output_type": "execute_result"
    }
   ],
   "source": [
    "df.head()"
   ]
  },
  {
   "cell_type": "code",
   "execution_count": null,
   "id": "b72a696b-88f8-4452-a7b3-866755982f1e",
   "metadata": {},
   "outputs": [],
   "source": []
  },
  {
   "cell_type": "markdown",
   "id": "6a7a6358-e399-4507-bc42-f01c8f30b67c",
   "metadata": {},
   "source": [
    "##### Lead Time Calculation"
   ]
  },
  {
   "cell_type": "code",
   "execution_count": 15,
   "id": "9d64ce14-34bd-4a26-b550-069039316197",
   "metadata": {},
   "outputs": [],
   "source": [
    "# Calculate lead time\n",
    "df['lead_time'] = (df['delivery_time'] - df['date_created']).dt.total_seconds() / 3600\n",
    "\n",
    "# Adjust lead time for orders created after 4 PM\n",
    "def adjust_lead_time(row):\n",
    "    \"\"\"\n",
    "    Adjusts lead time for orders created after 4 PM and not delivered on the same day.\n",
    "\n",
    "    This function takes a single row (Series) from the DataFrame as input and modifies\n",
    "    the 'lead_time' value based on specific conditions.\n",
    "\n",
    "    Args:\n",
    "        row (pandas.Series): A row from the DataFrame containing order information.\n",
    "\n",
    "    Returns:\n",
    "        float: The adjusted lead time in hours (or None if delivery time is missing).\n",
    "    \"\"\"\n",
    "\n",
    "    # Check if order creation time is after 4 PM (16:00)\n",
    "    if row['date_created'].hour >= 16:\n",
    "        # Check if delivery occurred on the same day (date comparison)\n",
    "        if row['delivery_time'].date() != row['date_created'].date():\n",
    "            # Calculate the adjusted creation time (8 AM next day)\n",
    "            next_day_8_am = row['date_created'].replace(hour=8, minute=0, second=0, microsecond=0) + pd.Timedelta(days=1)\n",
    "\n",
    "            # Calculate lead time in seconds and convert to hours\n",
    "            lead_time_seconds = (row['delivery_time'] - next_day_8_am).total_seconds()\n",
    "            lead_time_hours = lead_time_seconds / 3600\n",
    "\n",
    "            # Return the adjusted lead time in hours\n",
    "            return lead_time_hours\n",
    "        else:\n",
    "            # Delivery occurred on the same day, no adjustment needed\n",
    "            return row['lead_time']\n",
    "    else:\n",
    "        # Order created before 4 PM, no adjustment needed\n",
    "        return row['lead_time']\n",
    "\n",
    "    # This line is unreachable in practice, but included to complete the algorithm\n",
    "    return None  # Handle cases where delivery time is missing by returning none\n"
   ]
  },
  {
   "cell_type": "code",
   "execution_count": 16,
   "id": "df3d8808-c5ca-478d-814e-8a31654621ca",
   "metadata": {},
   "outputs": [
    {
     "data": {
      "text/html": [
       "<div>\n",
       "<style scoped>\n",
       "    .dataframe tbody tr th:only-of-type {\n",
       "        vertical-align: middle;\n",
       "    }\n",
       "\n",
       "    .dataframe tbody tr th {\n",
       "        vertical-align: top;\n",
       "    }\n",
       "\n",
       "    .dataframe thead th {\n",
       "        text-align: right;\n",
       "    }\n",
       "</style>\n",
       "<table border=\"1\" class=\"dataframe\">\n",
       "  <thead>\n",
       "    <tr style=\"text-align: right;\">\n",
       "      <th></th>\n",
       "      <th>hmo_id</th>\n",
       "      <th>prescription_code</th>\n",
       "      <th>name</th>\n",
       "      <th>date_created</th>\n",
       "      <th>status</th>\n",
       "      <th>delivery_status</th>\n",
       "      <th>delivery_time</th>\n",
       "      <th>lead_time</th>\n",
       "    </tr>\n",
       "  </thead>\n",
       "  <tbody>\n",
       "    <tr>\n",
       "      <th>0</th>\n",
       "      <td>10007RUTA</td>\n",
       "      <td>90A67E39</td>\n",
       "      <td>Aretola</td>\n",
       "      <td>2024-05-01 05:24:01</td>\n",
       "      <td>Dispensed</td>\n",
       "      <td>Delivered</td>\n",
       "      <td>2024-05-01 17:00:00</td>\n",
       "      <td>11.599722</td>\n",
       "    </tr>\n",
       "    <tr>\n",
       "      <th>1</th>\n",
       "      <td>10136AVLC</td>\n",
       "      <td>294E6A17</td>\n",
       "      <td>Ijete</td>\n",
       "      <td>2024-05-01 06:29:03</td>\n",
       "      <td>Dispensed</td>\n",
       "      <td>Delivered</td>\n",
       "      <td>2024-05-01 13:23:00</td>\n",
       "      <td>6.899167</td>\n",
       "    </tr>\n",
       "    <tr>\n",
       "      <th>2</th>\n",
       "      <td>10047IPOB</td>\n",
       "      <td>A98A9111</td>\n",
       "      <td>Afiomah</td>\n",
       "      <td>2024-05-01 06:31:34</td>\n",
       "      <td>Dispensed</td>\n",
       "      <td>Delivered</td>\n",
       "      <td>2024-05-02 16:12:00</td>\n",
       "      <td>33.673889</td>\n",
       "    </tr>\n",
       "    <tr>\n",
       "      <th>4</th>\n",
       "      <td>10054PVLA</td>\n",
       "      <td>850258F2</td>\n",
       "      <td>Abdullahi</td>\n",
       "      <td>2024-05-01 06:56:48</td>\n",
       "      <td>Dispensed</td>\n",
       "      <td>Delivered</td>\n",
       "      <td>2024-05-01 12:00:00</td>\n",
       "      <td>5.053333</td>\n",
       "    </tr>\n",
       "    <tr>\n",
       "      <th>5</th>\n",
       "      <td>10506OPAA</td>\n",
       "      <td>175FBA94</td>\n",
       "      <td>FAGBAMIGBE</td>\n",
       "      <td>2024-05-01 06:57:10</td>\n",
       "      <td>Dispensed</td>\n",
       "      <td>Delivered</td>\n",
       "      <td>2024-05-01 14:23:00</td>\n",
       "      <td>7.430556</td>\n",
       "    </tr>\n",
       "  </tbody>\n",
       "</table>\n",
       "</div>"
      ],
      "text/plain": [
       "      hmo_id prescription_code        name        date_created     status  \\\n",
       "0  10007RUTA          90A67E39     Aretola 2024-05-01 05:24:01  Dispensed   \n",
       "1  10136AVLC          294E6A17       Ijete 2024-05-01 06:29:03  Dispensed   \n",
       "2  10047IPOB          A98A9111     Afiomah 2024-05-01 06:31:34  Dispensed   \n",
       "4  10054PVLA          850258F2   Abdullahi 2024-05-01 06:56:48  Dispensed   \n",
       "5  10506OPAA          175FBA94  FAGBAMIGBE 2024-05-01 06:57:10  Dispensed   \n",
       "\n",
       "  delivery_status       delivery_time  lead_time  \n",
       "0       Delivered 2024-05-01 17:00:00  11.599722  \n",
       "1       Delivered 2024-05-01 13:23:00   6.899167  \n",
       "2       Delivered 2024-05-02 16:12:00  33.673889  \n",
       "4       Delivered 2024-05-01 12:00:00   5.053333  \n",
       "5       Delivered 2024-05-01 14:23:00   7.430556  "
      ]
     },
     "execution_count": 16,
     "metadata": {},
     "output_type": "execute_result"
    }
   ],
   "source": [
    "# Apply the function to each row with a new column 'lead_time'\n",
    "df['lead_time'] = df.apply(adjust_lead_time, axis=1)\n",
    "\n",
    "# print first 5 rows to check the result\n",
    "df.head()"
   ]
  },
  {
   "cell_type": "code",
   "execution_count": null,
   "id": "dd514ebb-b317-436b-97f3-1bb0b4295c3a",
   "metadata": {},
   "outputs": [],
   "source": []
  },
  {
   "cell_type": "markdown",
   "id": "e838659b-60b2-4537-8ca6-ccd183229142",
   "metadata": {},
   "source": [
    "#### Save the cleaned data to excel format"
   ]
  },
  {
   "cell_type": "code",
   "execution_count": 17,
   "id": "18bdf7be-3414-4490-9c02-0f7259818fb4",
   "metadata": {},
   "outputs": [],
   "source": [
    "# copy the cleaned data into a new dataframe called df_cleaned\n",
    "\n",
    "df_cleaned = df.copy()"
   ]
  },
  {
   "cell_type": "code",
   "execution_count": 18,
   "id": "ff56b5f1-56b7-4b5c-b5e8-ae48fdf13c0c",
   "metadata": {},
   "outputs": [],
   "source": [
    "# Set file name to Assessment_Data_Output as output DataFrame\n",
    "file_path = 'Assessment_Data_Output.xlsx'\n",
    "df_cleaned.to_excel(file_path, index=False)"
   ]
  },
  {
   "cell_type": "code",
   "execution_count": null,
   "id": "1e2c4a9f-648f-49e9-a386-493897828ad7",
   "metadata": {},
   "outputs": [],
   "source": []
  },
  {
   "cell_type": "code",
   "execution_count": null,
   "id": "01fce536-6b60-45f5-91db-e29cda182017",
   "metadata": {},
   "outputs": [],
   "source": []
  },
  {
   "cell_type": "markdown",
   "id": "fde06d69-0460-454c-95d8-64ef2691b071",
   "metadata": {},
   "source": [
    "# Descriptive Analysis"
   ]
  },
  {
   "cell_type": "code",
   "execution_count": null,
   "id": "8df6a8a2-32e9-47fd-b8e3-f6942570bb83",
   "metadata": {},
   "outputs": [],
   "source": []
  },
  {
   "cell_type": "code",
   "execution_count": 19,
   "id": "af02c4b8-778f-45e9-8f08-ff9d4b7c3412",
   "metadata": {},
   "outputs": [],
   "source": [
    "# load the data set to start the analysis\n",
    "\n",
    "df = pd.read_excel('Assessment_Data_Output.xlsx')"
   ]
  },
  {
   "cell_type": "code",
   "execution_count": 20,
   "id": "edf94670-640a-41c8-8490-eea54a6eac72",
   "metadata": {},
   "outputs": [
    {
     "data": {
      "text/html": [
       "<div>\n",
       "<style scoped>\n",
       "    .dataframe tbody tr th:only-of-type {\n",
       "        vertical-align: middle;\n",
       "    }\n",
       "\n",
       "    .dataframe tbody tr th {\n",
       "        vertical-align: top;\n",
       "    }\n",
       "\n",
       "    .dataframe thead th {\n",
       "        text-align: right;\n",
       "    }\n",
       "</style>\n",
       "<table border=\"1\" class=\"dataframe\">\n",
       "  <thead>\n",
       "    <tr style=\"text-align: right;\">\n",
       "      <th></th>\n",
       "      <th>hmo_id</th>\n",
       "      <th>prescription_code</th>\n",
       "      <th>name</th>\n",
       "      <th>date_created</th>\n",
       "      <th>status</th>\n",
       "      <th>delivery_status</th>\n",
       "      <th>delivery_time</th>\n",
       "      <th>lead_time</th>\n",
       "    </tr>\n",
       "  </thead>\n",
       "  <tbody>\n",
       "    <tr>\n",
       "      <th>0</th>\n",
       "      <td>10007RUTA</td>\n",
       "      <td>90A67E39</td>\n",
       "      <td>Aretola</td>\n",
       "      <td>2024-05-01 05:24:01</td>\n",
       "      <td>Dispensed</td>\n",
       "      <td>Delivered</td>\n",
       "      <td>2024-05-01 17:00:00</td>\n",
       "      <td>11.599722</td>\n",
       "    </tr>\n",
       "    <tr>\n",
       "      <th>1</th>\n",
       "      <td>10136AVLC</td>\n",
       "      <td>294E6A17</td>\n",
       "      <td>Ijete</td>\n",
       "      <td>2024-05-01 06:29:03</td>\n",
       "      <td>Dispensed</td>\n",
       "      <td>Delivered</td>\n",
       "      <td>2024-05-01 13:23:00</td>\n",
       "      <td>6.899167</td>\n",
       "    </tr>\n",
       "    <tr>\n",
       "      <th>2</th>\n",
       "      <td>10047IPOB</td>\n",
       "      <td>A98A9111</td>\n",
       "      <td>Afiomah</td>\n",
       "      <td>2024-05-01 06:31:34</td>\n",
       "      <td>Dispensed</td>\n",
       "      <td>Delivered</td>\n",
       "      <td>2024-05-02 16:12:00</td>\n",
       "      <td>33.673889</td>\n",
       "    </tr>\n",
       "    <tr>\n",
       "      <th>3</th>\n",
       "      <td>10054PVLA</td>\n",
       "      <td>850258F2</td>\n",
       "      <td>Abdullahi</td>\n",
       "      <td>2024-05-01 06:56:48</td>\n",
       "      <td>Dispensed</td>\n",
       "      <td>Delivered</td>\n",
       "      <td>2024-05-01 12:00:00</td>\n",
       "      <td>5.053333</td>\n",
       "    </tr>\n",
       "    <tr>\n",
       "      <th>4</th>\n",
       "      <td>10506OPAA</td>\n",
       "      <td>175FBA94</td>\n",
       "      <td>FAGBAMIGBE</td>\n",
       "      <td>2024-05-01 06:57:10</td>\n",
       "      <td>Dispensed</td>\n",
       "      <td>Delivered</td>\n",
       "      <td>2024-05-01 14:23:00</td>\n",
       "      <td>7.430556</td>\n",
       "    </tr>\n",
       "  </tbody>\n",
       "</table>\n",
       "</div>"
      ],
      "text/plain": [
       "      hmo_id prescription_code        name        date_created     status  \\\n",
       "0  10007RUTA          90A67E39     Aretola 2024-05-01 05:24:01  Dispensed   \n",
       "1  10136AVLC          294E6A17       Ijete 2024-05-01 06:29:03  Dispensed   \n",
       "2  10047IPOB          A98A9111     Afiomah 2024-05-01 06:31:34  Dispensed   \n",
       "3  10054PVLA          850258F2   Abdullahi 2024-05-01 06:56:48  Dispensed   \n",
       "4  10506OPAA          175FBA94  FAGBAMIGBE 2024-05-01 06:57:10  Dispensed   \n",
       "\n",
       "  delivery_status       delivery_time  lead_time  \n",
       "0       Delivered 2024-05-01 17:00:00  11.599722  \n",
       "1       Delivered 2024-05-01 13:23:00   6.899167  \n",
       "2       Delivered 2024-05-02 16:12:00  33.673889  \n",
       "3       Delivered 2024-05-01 12:00:00   5.053333  \n",
       "4       Delivered 2024-05-01 14:23:00   7.430556  "
      ]
     },
     "execution_count": 20,
     "metadata": {},
     "output_type": "execute_result"
    }
   ],
   "source": [
    "df.head()"
   ]
  },
  {
   "cell_type": "code",
   "execution_count": null,
   "id": "a47b6930-c5af-4951-9529-0bc743dba9f7",
   "metadata": {},
   "outputs": [],
   "source": []
  },
  {
   "cell_type": "code",
   "execution_count": 21,
   "id": "14930ace-46ba-414c-8d87-e30951d00779",
   "metadata": {},
   "outputs": [
    {
     "data": {
      "text/html": [
       "<div>\n",
       "<style scoped>\n",
       "    .dataframe tbody tr th:only-of-type {\n",
       "        vertical-align: middle;\n",
       "    }\n",
       "\n",
       "    .dataframe tbody tr th {\n",
       "        vertical-align: top;\n",
       "    }\n",
       "\n",
       "    .dataframe thead th {\n",
       "        text-align: right;\n",
       "    }\n",
       "</style>\n",
       "<table border=\"1\" class=\"dataframe\">\n",
       "  <thead>\n",
       "    <tr style=\"text-align: right;\">\n",
       "      <th></th>\n",
       "      <th>date_created</th>\n",
       "      <th>delivery_time</th>\n",
       "      <th>lead_time</th>\n",
       "    </tr>\n",
       "  </thead>\n",
       "  <tbody>\n",
       "    <tr>\n",
       "      <th>count</th>\n",
       "      <td>5700</td>\n",
       "      <td>5700</td>\n",
       "      <td>5700.000000</td>\n",
       "    </tr>\n",
       "    <tr>\n",
       "      <th>mean</th>\n",
       "      <td>2024-05-17 02:35:24.577719296</td>\n",
       "      <td>2024-05-17 14:11:22.368421120</td>\n",
       "      <td>7.184459</td>\n",
       "    </tr>\n",
       "    <tr>\n",
       "      <th>min</th>\n",
       "      <td>2024-05-01 05:24:01</td>\n",
       "      <td>2024-05-01 11:00:00</td>\n",
       "      <td>-6.616667</td>\n",
       "    </tr>\n",
       "    <tr>\n",
       "      <th>25%</th>\n",
       "      <td>2024-05-09 12:56:51.750000128</td>\n",
       "      <td>2024-05-09 17:07:15</td>\n",
       "      <td>3.167292</td>\n",
       "    </tr>\n",
       "    <tr>\n",
       "      <th>50%</th>\n",
       "      <td>2024-05-16 21:13:42</td>\n",
       "      <td>2024-05-17 12:00:00</td>\n",
       "      <td>4.250000</td>\n",
       "    </tr>\n",
       "    <tr>\n",
       "      <th>75%</th>\n",
       "      <td>2024-05-24 11:34:45.750000128</td>\n",
       "      <td>2024-05-24 16:31:00</td>\n",
       "      <td>6.000000</td>\n",
       "    </tr>\n",
       "    <tr>\n",
       "      <th>max</th>\n",
       "      <td>2024-05-31 23:43:52</td>\n",
       "      <td>2025-05-18 14:23:00</td>\n",
       "      <td>8763.931111</td>\n",
       "    </tr>\n",
       "    <tr>\n",
       "      <th>std</th>\n",
       "      <td>NaN</td>\n",
       "      <td>NaN</td>\n",
       "      <td>116.170402</td>\n",
       "    </tr>\n",
       "  </tbody>\n",
       "</table>\n",
       "</div>"
      ],
      "text/plain": [
       "                        date_created                  delivery_time  \\\n",
       "count                           5700                           5700   \n",
       "mean   2024-05-17 02:35:24.577719296  2024-05-17 14:11:22.368421120   \n",
       "min              2024-05-01 05:24:01            2024-05-01 11:00:00   \n",
       "25%    2024-05-09 12:56:51.750000128            2024-05-09 17:07:15   \n",
       "50%              2024-05-16 21:13:42            2024-05-17 12:00:00   \n",
       "75%    2024-05-24 11:34:45.750000128            2024-05-24 16:31:00   \n",
       "max              2024-05-31 23:43:52            2025-05-18 14:23:00   \n",
       "std                              NaN                            NaN   \n",
       "\n",
       "         lead_time  \n",
       "count  5700.000000  \n",
       "mean      7.184459  \n",
       "min      -6.616667  \n",
       "25%       3.167292  \n",
       "50%       4.250000  \n",
       "75%       6.000000  \n",
       "max    8763.931111  \n",
       "std     116.170402  "
      ]
     },
     "execution_count": 21,
     "metadata": {},
     "output_type": "execute_result"
    }
   ],
   "source": [
    "# Summary Statistics\n",
    "\n",
    "df.describe()"
   ]
  },
  {
   "cell_type": "code",
   "execution_count": null,
   "id": "ab1ab4f3-e6c2-451f-a6b4-15542c871901",
   "metadata": {},
   "outputs": [],
   "source": []
  },
  {
   "cell_type": "code",
   "execution_count": 25,
   "id": "969fab48-0de8-4c9c-8f10-0836d6751076",
   "metadata": {},
   "outputs": [],
   "source": [
    "# Select numeric and datetime columns\n",
    "selected_columns = df.select_dtypes(include=['number', 'datetime'])"
   ]
  },
  {
   "cell_type": "code",
   "execution_count": 27,
   "id": "dee8e404-e002-4286-989d-4fd9679097e6",
   "metadata": {},
   "outputs": [
    {
     "data": {
      "image/png": "[encoded data removed]",
      "text/plain": [
       "<Figure size 1000x600 with 1 Axes>"
      ]
     },
     "metadata": {},
     "output_type": "display_data"
    },
    {
     "data": {
      "image/png": "[encoded data removed]",
      "text/plain": [
       "<Figure size 1000x600 with 1 Axes>"
      ]
     },
     "metadata": {},
     "output_type": "display_data"
    },
    {
     "data": {
      "image/png": "[encoded data removed]",
      "text/plain": [
       "<Figure size 1000x600 with 1 Axes>"
      ]
     },
     "metadata": {},
     "output_type": "display_data"
    }
   ],
   "source": [
    "# Plot distribution plots for selected columns that match key variables\n",
    "for column in selected_columns:\n",
    "    plt.figure(figsize=(10, 6))\n",
    "    sns.histplot(df[column].dropna(), kde=True)  # Drop NaNs for plotting\n",
    "    plt.title(f'Distribution of {column}')\n",
    "    plt.xlabel(column)\n",
    "    plt.ylabel('Frequency')\n",
    "    plt.show()"
   ]
  },
  {
   "cell_type": "code",
   "execution_count": null,
   "id": "3327d9ba-05e8-43b4-981d-c0f0f41fbe38",
   "metadata": {},
   "outputs": [],
   "source": []
  },
  {
   "cell_type": "code",
   "execution_count": null,
   "id": "fa42ade4-6d86-47eb-862a-bedf4f484430",
   "metadata": {},
   "outputs": [],
   "source": []
  }
 ],
 "metadata": {
  "kernelspec": {
   "display_name": "Python 3 (ipykernel)",
   "language": "python",
   "name": "python3"
  },
  "language_info": {
   "codemirror_mode": {
    "name": "ipython",
    "version": 3
   },
   "file_extension": ".py",
   "mimetype": "text/x-python",
   "name": "python",
   "nbconvert_exporter": "python",
   "pygments_lexer": "ipython3",
   "version": "3.9.18"
  }
 },
 "nbformat": 4,
 "nbformat_minor": 5
}
